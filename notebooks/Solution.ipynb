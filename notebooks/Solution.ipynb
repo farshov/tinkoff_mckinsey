{
 "cells": [
  {
   "cell_type": "markdown",
   "metadata": {},
   "source": [
    "https://towardsdatascience.com/predict-the-number-of-likes-on-instagram-a7ec5c020203"
   ]
  },
  {
   "cell_type": "markdown",
   "metadata": {},
   "source": [
    "# Imports"
   ]
  },
  {
   "cell_type": "code",
   "execution_count": 93,
   "metadata": {},
   "outputs": [],
   "source": [
    "import os,sys,inspect\n",
    "current_dir = os.path.dirname(os.path.abspath(inspect.getfile(inspect.currentframe())))\n",
    "parent_dir = os.path.dirname(current_dir)\n",
    "sys.path.insert(0, parent_dir) \n",
    "\n",
    "from lib.utils import clean_sentence, clean_text\n",
    "from lib.preprocess_utils import calc_duration, transform_to_year, aggregate_transactions"
   ]
  },
  {
   "cell_type": "code",
   "execution_count": 2,
   "metadata": {},
   "outputs": [],
   "source": [
    "import pandas as pd\n",
    "import json\n",
    "import numpy as np\n",
    "import re\n",
    "import pickle\n",
    "from datetime import datetime\n",
    "\n",
    "from sklearn.preprocessing import OneHotEncoder\n",
    "from sklearn.decomposition import PCA\n",
    "from sklearn.preprocessing import MinMaxScaler\n",
    "\n",
    "import matplotlib.pyplot as plt\n",
    "\n",
    "\n",
    "%load_ext autoreload\n",
    "%autoreload 2"
   ]
  },
  {
   "cell_type": "markdown",
   "metadata": {},
   "source": [
    "# Data Loading"
   ]
  },
  {
   "cell_type": "code",
   "execution_count": 3,
   "metadata": {},
   "outputs": [],
   "source": [
    "DATA_PATH = '../data_like/'"
   ]
  },
  {
   "cell_type": "code",
   "execution_count": 4,
   "metadata": {},
   "outputs": [],
   "source": [
    "train = pd.read_csv(DATA_PATH+'customer_train.csv')\n",
    "test = pd.read_csv(DATA_PATH+'customer_test.csv')\n",
    "\n",
    "stories = pd.read_csv(DATA_PATH+'stories_description.csv')\n",
    "\n",
    "train_y = pd.read_csv(DATA_PATH+'stories_reaction_train.csv')\n",
    "test_y = pd.read_csv(DATA_PATH+'stories_reaction_test.csv')\n",
    "\n",
    "transaction = pd.read_csv(DATA_PATH+'transactions.csv')"
   ]
  },
  {
   "cell_type": "code",
   "execution_count": 5,
   "metadata": {
    "scrolled": true
   },
   "outputs": [],
   "source": [
    "description = pd.read_excel(DATA_PATH+'Hack_desc.xlsx')\n",
    "description.index = description['customer']\n",
    "description = description.drop(labels=['customer'], axis=1)"
   ]
  },
  {
   "cell_type": "code",
   "execution_count": 6,
   "metadata": {},
   "outputs": [
    {
     "data": {
      "text/plain": [
       "'Тип действия. like - лайк или сохранение. view - глубокий просмотр (более 10 секунд). skip - пролистанная история (менее 5 секунд). dislike - дизлайк'"
      ]
     },
     "execution_count": 6,
     "metadata": {},
     "output_type": "execute_result"
    }
   ],
   "source": [
    "description['Unnamed: 1'].loc['event']"
   ]
  },
  {
   "cell_type": "markdown",
   "metadata": {},
   "source": [
    "# Extracting text features from jsons"
   ]
  },
  {
   "cell_type": "markdown",
   "metadata": {},
   "source": [
    "### !!!!Тема сториза!!!!1"
   ]
  },
  {
   "cell_type": "code",
   "execution_count": 7,
   "metadata": {},
   "outputs": [],
   "source": [
    "REG_TEXT = \"text\\\":\\\"(.*?)\\\",\"\n",
    "REG_NAME = \"name\\\":\\\"(.*?)\\\",\"\n",
    "\n",
    "r = re.findall(REG_NAME, stories['story_json'][10])"
   ]
  },
  {
   "cell_type": "code",
   "execution_count": 8,
   "metadata": {},
   "outputs": [],
   "source": [
    "decoded_stories = dict()\n",
    "for i in stories.index:\n",
    "    cur_story = stories['story_json'][i]\n",
    "    story_info = dict()\n",
    "    name = re.findall(REG_NAME, cur_story)\n",
    "    story_info['name'] = \"\" if len(name) == 0 else clean_sentence(name[0])\n",
    "    story_info['text'], story_info['swipes'], story_info['n_words'] = clean_text(re.findall(REG_TEXT, cur_story))\n",
    "    decoded_stories[stories['story_id'][i]] = story_info"
   ]
  },
  {
   "cell_type": "code",
   "execution_count": 9,
   "metadata": {},
   "outputs": [],
   "source": [
    "# with open(\"stories\", \"wb\") as fp:\n",
    "#     pickle.dump(decoded_stories, fp)"
   ]
  },
  {
   "cell_type": "code",
   "execution_count": 10,
   "metadata": {},
   "outputs": [],
   "source": [
    "# with open(\"stories\", \"rb\") as fp:\n",
    "#     b = pickle.load(fp)"
   ]
  },
  {
   "cell_type": "markdown",
   "metadata": {},
   "source": [
    "# Data Analysis "
   ]
  },
  {
   "cell_type": "markdown",
   "metadata": {},
   "source": [
    "## 1) Likes, Dislikes and other stuff"
   ]
  },
  {
   "cell_type": "code",
   "execution_count": 11,
   "metadata": {},
   "outputs": [
    {
     "data": {
      "text/plain": [
       "14260"
      ]
     },
     "execution_count": 11,
     "metadata": {},
     "output_type": "execute_result"
    }
   ],
   "source": [
    "len(list(set(train_y.customer_id).intersection(set(test_y.customer_id))))"
   ]
  },
  {
   "cell_type": "code",
   "execution_count": 12,
   "metadata": {},
   "outputs": [
    {
     "data": {
      "text/plain": [
       "670"
      ]
     },
     "execution_count": 12,
     "metadata": {},
     "output_type": "execute_result"
    }
   ],
   "source": [
    "len(list(set(train_y.story_id).intersection(set(test_y.story_id))))"
   ]
  },
  {
   "cell_type": "markdown",
   "metadata": {},
   "source": [
    "#### Some customers from train are also in test as well as stories"
   ]
  },
  {
   "cell_type": "code",
   "execution_count": 13,
   "metadata": {},
   "outputs": [],
   "source": [
    "inter = list(set(train_y.customer_id).intersection(set(test_y.customer_id)))\n",
    "num = 4"
   ]
  },
  {
   "cell_type": "code",
   "execution_count": 14,
   "metadata": {
    "scrolled": true
   },
   "outputs": [
    {
     "data": {
      "text/html": [
       "<div>\n",
       "<style scoped>\n",
       "    .dataframe tbody tr th:only-of-type {\n",
       "        vertical-align: middle;\n",
       "    }\n",
       "\n",
       "    .dataframe tbody tr th {\n",
       "        vertical-align: top;\n",
       "    }\n",
       "\n",
       "    .dataframe thead th {\n",
       "        text-align: right;\n",
       "    }\n",
       "</style>\n",
       "<table border=\"1\" class=\"dataframe\">\n",
       "  <thead>\n",
       "    <tr style=\"text-align: right;\">\n",
       "      <th></th>\n",
       "      <th>customer_id</th>\n",
       "      <th>story_id</th>\n",
       "      <th>event_dttm</th>\n",
       "      <th>event</th>\n",
       "    </tr>\n",
       "  </thead>\n",
       "  <tbody>\n",
       "    <tr>\n",
       "      <th>444336</th>\n",
       "      <td>917520</td>\n",
       "      <td>129</td>\n",
       "      <td>2018-05-31 05:05:34</td>\n",
       "      <td>view</td>\n",
       "    </tr>\n",
       "    <tr>\n",
       "      <th>444337</th>\n",
       "      <td>917520</td>\n",
       "      <td>129</td>\n",
       "      <td>2018-06-01 13:14:11</td>\n",
       "      <td>view</td>\n",
       "    </tr>\n",
       "    <tr>\n",
       "      <th>444338</th>\n",
       "      <td>917520</td>\n",
       "      <td>133</td>\n",
       "      <td>2018-05-28 11:58:47</td>\n",
       "      <td>skip</td>\n",
       "    </tr>\n",
       "    <tr>\n",
       "      <th>444339</th>\n",
       "      <td>917520</td>\n",
       "      <td>136</td>\n",
       "      <td>2018-05-28 11:58:47</td>\n",
       "      <td>view</td>\n",
       "    </tr>\n",
       "    <tr>\n",
       "      <th>444340</th>\n",
       "      <td>917520</td>\n",
       "      <td>138</td>\n",
       "      <td>2018-06-20 15:50:13</td>\n",
       "      <td>skip</td>\n",
       "    </tr>\n",
       "    <tr>\n",
       "      <th>444341</th>\n",
       "      <td>917520</td>\n",
       "      <td>171</td>\n",
       "      <td>2018-05-24 04:45:37</td>\n",
       "      <td>view</td>\n",
       "    </tr>\n",
       "    <tr>\n",
       "      <th>444342</th>\n",
       "      <td>917520</td>\n",
       "      <td>202</td>\n",
       "      <td>2018-06-14 01:43:54</td>\n",
       "      <td>view</td>\n",
       "    </tr>\n",
       "    <tr>\n",
       "      <th>444343</th>\n",
       "      <td>917520</td>\n",
       "      <td>202</td>\n",
       "      <td>2018-06-14 14:50:16</td>\n",
       "      <td>skip</td>\n",
       "    </tr>\n",
       "    <tr>\n",
       "      <th>444344</th>\n",
       "      <td>917520</td>\n",
       "      <td>202</td>\n",
       "      <td>2018-06-15 14:01:51</td>\n",
       "      <td>skip</td>\n",
       "    </tr>\n",
       "    <tr>\n",
       "      <th>444345</th>\n",
       "      <td>917520</td>\n",
       "      <td>216</td>\n",
       "      <td>2018-06-27 06:21:37</td>\n",
       "      <td>view</td>\n",
       "    </tr>\n",
       "    <tr>\n",
       "      <th>444346</th>\n",
       "      <td>917520</td>\n",
       "      <td>265</td>\n",
       "      <td>2018-05-24 11:07:18</td>\n",
       "      <td>view</td>\n",
       "    </tr>\n",
       "    <tr>\n",
       "      <th>444347</th>\n",
       "      <td>917520</td>\n",
       "      <td>313</td>\n",
       "      <td>2018-05-29 16:14:47</td>\n",
       "      <td>view</td>\n",
       "    </tr>\n",
       "    <tr>\n",
       "      <th>444348</th>\n",
       "      <td>917520</td>\n",
       "      <td>319</td>\n",
       "      <td>2018-06-05 15:13:20</td>\n",
       "      <td>view</td>\n",
       "    </tr>\n",
       "    <tr>\n",
       "      <th>444349</th>\n",
       "      <td>917520</td>\n",
       "      <td>319</td>\n",
       "      <td>2018-06-06 07:57:55</td>\n",
       "      <td>view</td>\n",
       "    </tr>\n",
       "    <tr>\n",
       "      <th>444350</th>\n",
       "      <td>917520</td>\n",
       "      <td>323</td>\n",
       "      <td>2018-06-14 01:43:54</td>\n",
       "      <td>view</td>\n",
       "    </tr>\n",
       "    <tr>\n",
       "      <th>444351</th>\n",
       "      <td>917520</td>\n",
       "      <td>323</td>\n",
       "      <td>2018-06-14 14:50:16</td>\n",
       "      <td>skip</td>\n",
       "    </tr>\n",
       "    <tr>\n",
       "      <th>444352</th>\n",
       "      <td>917520</td>\n",
       "      <td>405</td>\n",
       "      <td>2018-06-15 11:24:58</td>\n",
       "      <td>view</td>\n",
       "    </tr>\n",
       "    <tr>\n",
       "      <th>444353</th>\n",
       "      <td>917520</td>\n",
       "      <td>405</td>\n",
       "      <td>2018-06-15 14:01:51</td>\n",
       "      <td>skip</td>\n",
       "    </tr>\n",
       "    <tr>\n",
       "      <th>444354</th>\n",
       "      <td>917520</td>\n",
       "      <td>410</td>\n",
       "      <td>2018-06-02 12:18:27</td>\n",
       "      <td>view</td>\n",
       "    </tr>\n",
       "    <tr>\n",
       "      <th>444355</th>\n",
       "      <td>917520</td>\n",
       "      <td>422</td>\n",
       "      <td>2018-06-02 12:18:27</td>\n",
       "      <td>skip</td>\n",
       "    </tr>\n",
       "    <tr>\n",
       "      <th>444356</th>\n",
       "      <td>917520</td>\n",
       "      <td>422</td>\n",
       "      <td>2018-06-05 05:14:10</td>\n",
       "      <td>skip</td>\n",
       "    </tr>\n",
       "    <tr>\n",
       "      <th>444357</th>\n",
       "      <td>917520</td>\n",
       "      <td>428</td>\n",
       "      <td>2018-05-28 12:34:31</td>\n",
       "      <td>view</td>\n",
       "    </tr>\n",
       "    <tr>\n",
       "      <th>444358</th>\n",
       "      <td>917520</td>\n",
       "      <td>449</td>\n",
       "      <td>2018-06-05 05:14:10</td>\n",
       "      <td>view</td>\n",
       "    </tr>\n",
       "    <tr>\n",
       "      <th>444359</th>\n",
       "      <td>917520</td>\n",
       "      <td>449</td>\n",
       "      <td>2018-06-06 07:57:55</td>\n",
       "      <td>skip</td>\n",
       "    </tr>\n",
       "    <tr>\n",
       "      <th>444360</th>\n",
       "      <td>917520</td>\n",
       "      <td>458</td>\n",
       "      <td>2018-05-30 03:42:16</td>\n",
       "      <td>view</td>\n",
       "    </tr>\n",
       "    <tr>\n",
       "      <th>444361</th>\n",
       "      <td>917520</td>\n",
       "      <td>470</td>\n",
       "      <td>2018-06-14 01:43:54</td>\n",
       "      <td>view</td>\n",
       "    </tr>\n",
       "    <tr>\n",
       "      <th>444362</th>\n",
       "      <td>917520</td>\n",
       "      <td>509</td>\n",
       "      <td>2018-05-25 10:11:20</td>\n",
       "      <td>view</td>\n",
       "    </tr>\n",
       "    <tr>\n",
       "      <th>444363</th>\n",
       "      <td>917520</td>\n",
       "      <td>509</td>\n",
       "      <td>2018-05-25 17:29:10</td>\n",
       "      <td>skip</td>\n",
       "    </tr>\n",
       "    <tr>\n",
       "      <th>444364</th>\n",
       "      <td>917520</td>\n",
       "      <td>509</td>\n",
       "      <td>2018-06-08 12:18:06</td>\n",
       "      <td>view</td>\n",
       "    </tr>\n",
       "    <tr>\n",
       "      <th>444365</th>\n",
       "      <td>917520</td>\n",
       "      <td>509</td>\n",
       "      <td>2018-06-10 06:30:04</td>\n",
       "      <td>skip</td>\n",
       "    </tr>\n",
       "    <tr>\n",
       "      <th>...</th>\n",
       "      <td>...</td>\n",
       "      <td>...</td>\n",
       "      <td>...</td>\n",
       "      <td>...</td>\n",
       "    </tr>\n",
       "    <tr>\n",
       "      <th>444570</th>\n",
       "      <td>917520</td>\n",
       "      <td>1290</td>\n",
       "      <td>2018-07-30 16:31:53</td>\n",
       "      <td>skip</td>\n",
       "    </tr>\n",
       "    <tr>\n",
       "      <th>444571</th>\n",
       "      <td>917520</td>\n",
       "      <td>1291</td>\n",
       "      <td>2018-07-17 11:45:19</td>\n",
       "      <td>view</td>\n",
       "    </tr>\n",
       "    <tr>\n",
       "      <th>444572</th>\n",
       "      <td>917520</td>\n",
       "      <td>1293</td>\n",
       "      <td>2018-07-14 11:32:57</td>\n",
       "      <td>view</td>\n",
       "    </tr>\n",
       "    <tr>\n",
       "      <th>444573</th>\n",
       "      <td>917520</td>\n",
       "      <td>1294</td>\n",
       "      <td>2018-07-11 16:15:19</td>\n",
       "      <td>view</td>\n",
       "    </tr>\n",
       "    <tr>\n",
       "      <th>444574</th>\n",
       "      <td>917520</td>\n",
       "      <td>1295</td>\n",
       "      <td>2018-07-22 02:07:13</td>\n",
       "      <td>view</td>\n",
       "    </tr>\n",
       "    <tr>\n",
       "      <th>444575</th>\n",
       "      <td>917520</td>\n",
       "      <td>1296</td>\n",
       "      <td>2018-07-22 02:07:13</td>\n",
       "      <td>view</td>\n",
       "    </tr>\n",
       "    <tr>\n",
       "      <th>444576</th>\n",
       "      <td>917520</td>\n",
       "      <td>1298</td>\n",
       "      <td>2018-07-27 07:21:05</td>\n",
       "      <td>view</td>\n",
       "    </tr>\n",
       "    <tr>\n",
       "      <th>444577</th>\n",
       "      <td>917520</td>\n",
       "      <td>1306</td>\n",
       "      <td>2018-07-12 12:50:47</td>\n",
       "      <td>view</td>\n",
       "    </tr>\n",
       "    <tr>\n",
       "      <th>444578</th>\n",
       "      <td>917520</td>\n",
       "      <td>1307</td>\n",
       "      <td>2018-07-11 16:15:19</td>\n",
       "      <td>skip</td>\n",
       "    </tr>\n",
       "    <tr>\n",
       "      <th>444579</th>\n",
       "      <td>917520</td>\n",
       "      <td>1307</td>\n",
       "      <td>2018-07-12 12:50:47</td>\n",
       "      <td>skip</td>\n",
       "    </tr>\n",
       "    <tr>\n",
       "      <th>444580</th>\n",
       "      <td>917520</td>\n",
       "      <td>1311</td>\n",
       "      <td>2018-07-19 18:04:30</td>\n",
       "      <td>dislike</td>\n",
       "    </tr>\n",
       "    <tr>\n",
       "      <th>444581</th>\n",
       "      <td>917520</td>\n",
       "      <td>1312</td>\n",
       "      <td>2018-07-21 00:32:04</td>\n",
       "      <td>view</td>\n",
       "    </tr>\n",
       "    <tr>\n",
       "      <th>444582</th>\n",
       "      <td>917520</td>\n",
       "      <td>1314</td>\n",
       "      <td>2018-07-14 11:32:57</td>\n",
       "      <td>skip</td>\n",
       "    </tr>\n",
       "    <tr>\n",
       "      <th>444583</th>\n",
       "      <td>917520</td>\n",
       "      <td>1315</td>\n",
       "      <td>2018-07-14 11:32:57</td>\n",
       "      <td>view</td>\n",
       "    </tr>\n",
       "    <tr>\n",
       "      <th>444584</th>\n",
       "      <td>917520</td>\n",
       "      <td>1316</td>\n",
       "      <td>2018-07-19 18:04:30</td>\n",
       "      <td>view</td>\n",
       "    </tr>\n",
       "    <tr>\n",
       "      <th>444585</th>\n",
       "      <td>917520</td>\n",
       "      <td>1316</td>\n",
       "      <td>2018-07-21 00:32:04</td>\n",
       "      <td>skip</td>\n",
       "    </tr>\n",
       "    <tr>\n",
       "      <th>444586</th>\n",
       "      <td>917520</td>\n",
       "      <td>1318</td>\n",
       "      <td>2018-07-19 18:04:30</td>\n",
       "      <td>like</td>\n",
       "    </tr>\n",
       "    <tr>\n",
       "      <th>444587</th>\n",
       "      <td>917520</td>\n",
       "      <td>1319</td>\n",
       "      <td>2018-07-27 07:21:05</td>\n",
       "      <td>view</td>\n",
       "    </tr>\n",
       "    <tr>\n",
       "      <th>444588</th>\n",
       "      <td>917520</td>\n",
       "      <td>1321</td>\n",
       "      <td>2018-07-24 06:00:49</td>\n",
       "      <td>view</td>\n",
       "    </tr>\n",
       "    <tr>\n",
       "      <th>444589</th>\n",
       "      <td>917520</td>\n",
       "      <td>1322</td>\n",
       "      <td>2018-07-25 03:40:54</td>\n",
       "      <td>view</td>\n",
       "    </tr>\n",
       "    <tr>\n",
       "      <th>444590</th>\n",
       "      <td>917520</td>\n",
       "      <td>1323</td>\n",
       "      <td>2018-07-19 18:04:30</td>\n",
       "      <td>skip</td>\n",
       "    </tr>\n",
       "    <tr>\n",
       "      <th>444591</th>\n",
       "      <td>917520</td>\n",
       "      <td>1336</td>\n",
       "      <td>2018-07-21 00:32:04</td>\n",
       "      <td>skip</td>\n",
       "    </tr>\n",
       "    <tr>\n",
       "      <th>444592</th>\n",
       "      <td>917520</td>\n",
       "      <td>1344</td>\n",
       "      <td>2018-07-27 07:21:05</td>\n",
       "      <td>skip</td>\n",
       "    </tr>\n",
       "    <tr>\n",
       "      <th>444593</th>\n",
       "      <td>917520</td>\n",
       "      <td>1352</td>\n",
       "      <td>2018-07-27 13:25:20</td>\n",
       "      <td>view</td>\n",
       "    </tr>\n",
       "    <tr>\n",
       "      <th>444594</th>\n",
       "      <td>917520</td>\n",
       "      <td>1356</td>\n",
       "      <td>2018-07-25 03:40:54</td>\n",
       "      <td>view</td>\n",
       "    </tr>\n",
       "    <tr>\n",
       "      <th>444595</th>\n",
       "      <td>917520</td>\n",
       "      <td>1359</td>\n",
       "      <td>2018-07-22 11:52:37</td>\n",
       "      <td>view</td>\n",
       "    </tr>\n",
       "    <tr>\n",
       "      <th>444596</th>\n",
       "      <td>917520</td>\n",
       "      <td>1372</td>\n",
       "      <td>2018-07-27 07:21:05</td>\n",
       "      <td>view</td>\n",
       "    </tr>\n",
       "    <tr>\n",
       "      <th>444597</th>\n",
       "      <td>917520</td>\n",
       "      <td>1385</td>\n",
       "      <td>2018-07-27 07:21:05</td>\n",
       "      <td>skip</td>\n",
       "    </tr>\n",
       "    <tr>\n",
       "      <th>444598</th>\n",
       "      <td>917520</td>\n",
       "      <td>1407</td>\n",
       "      <td>2018-07-30 16:31:53</td>\n",
       "      <td>view</td>\n",
       "    </tr>\n",
       "    <tr>\n",
       "      <th>444599</th>\n",
       "      <td>917520</td>\n",
       "      <td>1100012</td>\n",
       "      <td>2018-07-14 11:32:57</td>\n",
       "      <td>view</td>\n",
       "    </tr>\n",
       "  </tbody>\n",
       "</table>\n",
       "<p>264 rows × 4 columns</p>\n",
       "</div>"
      ],
      "text/plain": [
       "        customer_id  story_id           event_dttm    event\n",
       "444336       917520       129  2018-05-31 05:05:34     view\n",
       "444337       917520       129  2018-06-01 13:14:11     view\n",
       "444338       917520       133  2018-05-28 11:58:47     skip\n",
       "444339       917520       136  2018-05-28 11:58:47     view\n",
       "444340       917520       138  2018-06-20 15:50:13     skip\n",
       "444341       917520       171  2018-05-24 04:45:37     view\n",
       "444342       917520       202  2018-06-14 01:43:54     view\n",
       "444343       917520       202  2018-06-14 14:50:16     skip\n",
       "444344       917520       202  2018-06-15 14:01:51     skip\n",
       "444345       917520       216  2018-06-27 06:21:37     view\n",
       "444346       917520       265  2018-05-24 11:07:18     view\n",
       "444347       917520       313  2018-05-29 16:14:47     view\n",
       "444348       917520       319  2018-06-05 15:13:20     view\n",
       "444349       917520       319  2018-06-06 07:57:55     view\n",
       "444350       917520       323  2018-06-14 01:43:54     view\n",
       "444351       917520       323  2018-06-14 14:50:16     skip\n",
       "444352       917520       405  2018-06-15 11:24:58     view\n",
       "444353       917520       405  2018-06-15 14:01:51     skip\n",
       "444354       917520       410  2018-06-02 12:18:27     view\n",
       "444355       917520       422  2018-06-02 12:18:27     skip\n",
       "444356       917520       422  2018-06-05 05:14:10     skip\n",
       "444357       917520       428  2018-05-28 12:34:31     view\n",
       "444358       917520       449  2018-06-05 05:14:10     view\n",
       "444359       917520       449  2018-06-06 07:57:55     skip\n",
       "444360       917520       458  2018-05-30 03:42:16     view\n",
       "444361       917520       470  2018-06-14 01:43:54     view\n",
       "444362       917520       509  2018-05-25 10:11:20     view\n",
       "444363       917520       509  2018-05-25 17:29:10     skip\n",
       "444364       917520       509  2018-06-08 12:18:06     view\n",
       "444365       917520       509  2018-06-10 06:30:04     skip\n",
       "...             ...       ...                  ...      ...\n",
       "444570       917520      1290  2018-07-30 16:31:53     skip\n",
       "444571       917520      1291  2018-07-17 11:45:19     view\n",
       "444572       917520      1293  2018-07-14 11:32:57     view\n",
       "444573       917520      1294  2018-07-11 16:15:19     view\n",
       "444574       917520      1295  2018-07-22 02:07:13     view\n",
       "444575       917520      1296  2018-07-22 02:07:13     view\n",
       "444576       917520      1298  2018-07-27 07:21:05     view\n",
       "444577       917520      1306  2018-07-12 12:50:47     view\n",
       "444578       917520      1307  2018-07-11 16:15:19     skip\n",
       "444579       917520      1307  2018-07-12 12:50:47     skip\n",
       "444580       917520      1311  2018-07-19 18:04:30  dislike\n",
       "444581       917520      1312  2018-07-21 00:32:04     view\n",
       "444582       917520      1314  2018-07-14 11:32:57     skip\n",
       "444583       917520      1315  2018-07-14 11:32:57     view\n",
       "444584       917520      1316  2018-07-19 18:04:30     view\n",
       "444585       917520      1316  2018-07-21 00:32:04     skip\n",
       "444586       917520      1318  2018-07-19 18:04:30     like\n",
       "444587       917520      1319  2018-07-27 07:21:05     view\n",
       "444588       917520      1321  2018-07-24 06:00:49     view\n",
       "444589       917520      1322  2018-07-25 03:40:54     view\n",
       "444590       917520      1323  2018-07-19 18:04:30     skip\n",
       "444591       917520      1336  2018-07-21 00:32:04     skip\n",
       "444592       917520      1344  2018-07-27 07:21:05     skip\n",
       "444593       917520      1352  2018-07-27 13:25:20     view\n",
       "444594       917520      1356  2018-07-25 03:40:54     view\n",
       "444595       917520      1359  2018-07-22 11:52:37     view\n",
       "444596       917520      1372  2018-07-27 07:21:05     view\n",
       "444597       917520      1385  2018-07-27 07:21:05     skip\n",
       "444598       917520      1407  2018-07-30 16:31:53     view\n",
       "444599       917520   1100012  2018-07-14 11:32:57     view\n",
       "\n",
       "[264 rows x 4 columns]"
      ]
     },
     "execution_count": 14,
     "metadata": {},
     "output_type": "execute_result"
    }
   ],
   "source": [
    "train_y[train_y.customer_id==inter[num]]"
   ]
  },
  {
   "cell_type": "markdown",
   "metadata": {},
   "source": [
    "#### Customers can watch the same stories few times, can be a good feature"
   ]
  },
  {
   "cell_type": "code",
   "execution_count": 15,
   "metadata": {},
   "outputs": [
    {
     "data": {
      "text/plain": [
       "view       0.512135\n",
       "skip       0.354159\n",
       "like       0.119810\n",
       "dislike    0.013896\n",
       "Name: event, dtype: float64"
      ]
     },
     "execution_count": 15,
     "metadata": {},
     "output_type": "execute_result"
    }
   ],
   "source": [
    "train_y.event.value_counts() / len(train_y)"
   ]
  },
  {
   "cell_type": "markdown",
   "metadata": {},
   "source": [
    "top_liked : top_disliked  ==  31 <br>\n",
    "top_viewed : top_disliked  ==  22 <br>\n",
    "top_skiped : top_disliked  ==  20 <br>\n",
    "top_viewed : top_liked  == 29 <br>\n",
    "top_skiped : top_liked == 24 <br>\n",
    "top_viewed : top_skiped == 27 <br>"
   ]
  },
  {
   "cell_type": "markdown",
   "metadata": {},
   "source": [
    "### ???? disliked are much more similar to liked, may be it is a misclick of user ?????"
   ]
  },
  {
   "cell_type": "markdown",
   "metadata": {},
   "source": [
    "## 2) Users info"
   ]
  },
  {
   "cell_type": "markdown",
   "metadata": {},
   "source": [
    "#### Let's watch by eyes to data"
   ]
  },
  {
   "cell_type": "code",
   "execution_count": 16,
   "metadata": {},
   "outputs": [],
   "source": [
    "# categorial_feat = ['product_0', 'product_1', 'product_2', 'product_3', \n",
    "#                    'product_4', 'product_5', 'product_6', 'gender_cd',\n",
    "#                    'marital_status_cd', 'children_cnt', 'job_position_cd', 'job_title']\n",
    "# for col in categorial_feat:\n",
    "#     print('FEATURE:', col)\n",
    "#     print(train[col].value_counts())\n",
    "#     print('Nans:', len(train) - np.sum(train[col].value_counts()))\n",
    "#     print('_________')"
   ]
  },
  {
   "cell_type": "markdown",
   "metadata": {},
   "source": [
    "#### Let's see data of registration"
   ]
  },
  {
   "cell_type": "code",
   "execution_count": 17,
   "metadata": {},
   "outputs": [
    {
     "data": {
      "text/plain": [
       "array(['2012', '2013', '2014', '2015', '2016', '2017', '2018', '2019',\n",
       "       'NaN'], dtype='<U21')"
      ]
     },
     "execution_count": 17,
     "metadata": {},
     "output_type": "execute_result"
    }
   ],
   "source": [
    "years = []\n",
    "for i in range(len(train)):\n",
    "    if isinstance(train.first_session_dttm[i], str):\n",
    "        years.append(datetime.strptime(train.first_session_dttm[i], '%Y-%m-%d %H:%M:%S').year)\n",
    "    else:\n",
    "        years.append('NaN')\n",
    "np.unique(years)"
   ]
  },
  {
   "cell_type": "markdown",
   "metadata": {},
   "source": [
    "#### Let's see age"
   ]
  },
  {
   "cell_type": "code",
   "execution_count": 18,
   "metadata": {},
   "outputs": [
    {
     "data": {
      "text/plain": [
       "array([ 0., 15., 20., 25., 30., 35., 40., 45., 50., 55., 60., 65., 70.,\n",
       "       75., 80., 85.])"
      ]
     },
     "execution_count": 18,
     "metadata": {},
     "output_type": "execute_result"
    }
   ],
   "source": [
    "train.age = train.age.fillna(0)\n",
    "np.unique(train.age)"
   ]
  },
  {
   "cell_type": "markdown",
   "metadata": {},
   "source": [
    "### can use it as a categorial feature"
   ]
  },
  {
   "cell_type": "markdown",
   "metadata": {},
   "source": [
    "## 3) Transactions"
   ]
  },
  {
   "cell_type": "code",
   "execution_count": 19,
   "metadata": {},
   "outputs": [
    {
     "data": {
      "text/html": [
       "<div>\n",
       "<style scoped>\n",
       "    .dataframe tbody tr th:only-of-type {\n",
       "        vertical-align: middle;\n",
       "    }\n",
       "\n",
       "    .dataframe tbody tr th {\n",
       "        vertical-align: top;\n",
       "    }\n",
       "\n",
       "    .dataframe thead th {\n",
       "        text-align: right;\n",
       "    }\n",
       "</style>\n",
       "<table border=\"1\" class=\"dataframe\">\n",
       "  <thead>\n",
       "    <tr style=\"text-align: right;\">\n",
       "      <th></th>\n",
       "      <th>Unnamed: 1</th>\n",
       "    </tr>\n",
       "    <tr>\n",
       "      <th>customer</th>\n",
       "      <th></th>\n",
       "    </tr>\n",
       "  </thead>\n",
       "  <tbody>\n",
       "    <tr>\n",
       "      <th>customer_id</th>\n",
       "      <td>Идентификатор клиента</td>\n",
       "    </tr>\n",
       "    <tr>\n",
       "      <th>transaction_month</th>\n",
       "      <td>Месяц транзакции</td>\n",
       "    </tr>\n",
       "    <tr>\n",
       "      <th>transaction_day</th>\n",
       "      <td>День транзакции</td>\n",
       "    </tr>\n",
       "    <tr>\n",
       "      <th>transaction_amt</th>\n",
       "      <td>Сумма транзакции в рублях</td>\n",
       "    </tr>\n",
       "    <tr>\n",
       "      <th>merchant_id</th>\n",
       "      <td>Идентификатор магазина, в котором была соверше...</td>\n",
       "    </tr>\n",
       "    <tr>\n",
       "      <th>merchant_mcc</th>\n",
       "      <td>MCC-категория магазина</td>\n",
       "    </tr>\n",
       "  </tbody>\n",
       "</table>\n",
       "</div>"
      ],
      "text/plain": [
       "                                                          Unnamed: 1\n",
       "customer                                                            \n",
       "customer_id                                    Идентификатор клиента\n",
       "transaction_month                                   Месяц транзакции\n",
       "transaction_day                                      День транзакции\n",
       "transaction_amt                            Сумма транзакции в рублях\n",
       "merchant_id        Идентификатор магазина, в котором была соверше...\n",
       "merchant_mcc                                  MCC-категория магазина"
      ]
     },
     "execution_count": 19,
     "metadata": {},
     "output_type": "execute_result"
    }
   ],
   "source": [
    "description.loc[transaction.columns].iloc[3: ]"
   ]
  },
  {
   "cell_type": "markdown",
   "metadata": {},
   "source": [
    "#### There are a lot of popular shops, maybe like x5 "
   ]
  },
  {
   "cell_type": "code",
   "execution_count": 20,
   "metadata": {},
   "outputs": [
    {
     "data": {
      "text/plain": [
       "409"
      ]
     },
     "execution_count": 20,
     "metadata": {},
     "output_type": "execute_result"
    }
   ],
   "source": [
    "len(transaction.merchant_mcc.value_counts())"
   ]
  },
  {
   "cell_type": "code",
   "execution_count": 21,
   "metadata": {
    "scrolled": true
   },
   "outputs": [
    {
     "data": {
      "image/png": "[encoded data removed]",
      "text/plain": [
       "<Figure size 432x288 with 1 Axes>"
      ]
     },
     "metadata": {
      "needs_background": "light"
     },
     "output_type": "display_data"
    },
    {
     "data": {
      "text/plain": [
       "514522     804\n",
       "588639     788\n",
       "333041     768\n",
       "588106     700\n",
       "673392     690\n",
       "878241     674\n",
       "533341     666\n",
       "67304      653\n",
       "334074     634\n",
       "110621     623\n",
       "141608     621\n",
       "177704     608\n",
       "335239     602\n",
       "744399     598\n",
       "540513     596\n",
       "43361      588\n",
       "598655     578\n",
       "141084     564\n",
       "634747     562\n",
       "192793     559\n",
       "130931     559\n",
       "87429      557\n",
       "249174     552\n",
       "49203      546\n",
       "301112     540\n",
       "153166     539\n",
       "135465     539\n",
       "835803     536\n",
       "8481       536\n",
       "456478     534\n",
       "          ... \n",
       "34462        1\n",
       "775470       1\n",
       "667131       1\n",
       "675777       1\n",
       "969138       1\n",
       "342357       1\n",
       "695788       1\n",
       "884801       1\n",
       "668720       1\n",
       "540920       1\n",
       "439181       1\n",
       "741349       1\n",
       "133167       1\n",
       "828986       1\n",
       "974677       1\n",
       "126204       1\n",
       "559694       1\n",
       "727308       1\n",
       "784656       1\n",
       "957106       1\n",
       "185147       1\n",
       "462450       1\n",
       "488335       1\n",
       "570468       1\n",
       "739851       1\n",
       "542958       1\n",
       "462666       1\n",
       "743422       1\n",
       "1010076      1\n",
       "195566       1\n",
       "Name: customer_id, Length: 46948, dtype: int64"
      ]
     },
     "execution_count": 21,
     "metadata": {},
     "output_type": "execute_result"
    }
   ],
   "source": [
    "_ = plt.hist(transaction.customer_id.value_counts(), bins='auto')  # arguments are passed to np.histogram\n",
    "plt.title(\"Histogram with 'auto' bins\")\n",
    "plt.show()\n",
    "transaction.customer_id.value_counts()"
   ]
  },
  {
   "cell_type": "markdown",
   "metadata": {},
   "source": [
    "#### Ideas: <br> 1. average amount of money for transaction for each user, two features: average over all transactions and of >0 rubles transactions<br> 2. average number of transaction per month <br> 3. Maybe if user visits top popular shops "
   ]
  },
  {
   "cell_type": "markdown",
   "metadata": {},
   "source": [
    "# -----------------------------"
   ]
  },
  {
   "cell_type": "markdown",
   "metadata": {},
   "source": [
    "# Preprocessing"
   ]
  },
  {
   "cell_type": "markdown",
   "metadata": {},
   "source": [
    "### 1) Customer_train/test"
   ]
  },
  {
   "cell_type": "markdown",
   "metadata": {},
   "source": [
    "Порезаьть те вещи, которые я указал выше - done<br>\n",
    "Посчитать число лет от текущего момента - done <br>\n",
    "Переделать дату - done"
   ]
  },
  {
   "cell_type": "code",
   "execution_count": 35,
   "metadata": {},
   "outputs": [
    {
     "name": "stdout",
     "output_type": "stream",
     "text": [
      "(50000, 15)\n",
      "(54245, 15)\n"
     ]
    }
   ],
   "source": [
    "train = pd.read_csv(DATA_PATH+'customer_train.csv')\n",
    "test = pd.read_csv(DATA_PATH+'customer_test.csv')\n",
    "print(train.shape)\n",
    "print(test.shape)"
   ]
  },
  {
   "cell_type": "markdown",
   "metadata": {},
   "source": [
    "#### Cutting very rare stuff"
   ]
  },
  {
   "cell_type": "code",
   "execution_count": 37,
   "metadata": {},
   "outputs": [],
   "source": [
    "nan = 'NAN'\n",
    "train = train.fillna(nan)"
   ]
  },
  {
   "cell_type": "code",
   "execution_count": 38,
   "metadata": {},
   "outputs": [],
   "source": [
    "# Delete rare jobs because it may be useless during one-hot encoding\n",
    "train.job_title = [job.lower() if isinstance(job, str) else job for job in train.job_title]\n",
    "common_jobs = set(train['job_title'].value_counts().keys()[train['job_title'].value_counts() > 50])\n",
    "train.job_title = [job if job in common_jobs else nan for job in train.job_title]"
   ]
  },
  {
   "cell_type": "code",
   "execution_count": 39,
   "metadata": {},
   "outputs": [],
   "source": [
    "common_n_status = set(train['marital_status_cd'].value_counts().keys()[train['marital_status_cd'].value_counts() > 2])\n",
    "train.marital_status_cd = [ch if ch in common_n_status else nan for ch in train.marital_status_cd]"
   ]
  },
  {
   "cell_type": "markdown",
   "metadata": {},
   "source": [
    "#### Calculating amount of time since regestration till now"
   ]
  },
  {
   "cell_type": "code",
   "execution_count": 40,
   "metadata": {},
   "outputs": [
    {
     "data": {
      "text/plain": [
       "2017"
      ]
     },
     "execution_count": 40,
     "metadata": {},
     "output_type": "execute_result"
    }
   ],
   "source": [
    "datetime.strptime(train.first_session_dttm[1], '%Y-%m-%d %H:%M:%S').year"
   ]
  },
  {
   "cell_type": "code",
   "execution_count": 41,
   "metadata": {},
   "outputs": [
    {
     "data": {
      "text/plain": [
       "2.5178082191780824"
      ]
     },
     "execution_count": 41,
     "metadata": {},
     "output_type": "execute_result"
    }
   ],
   "source": [
    "(datetime.today() - datetime.strptime(train.first_session_dttm[1], '%Y-%m-%d %H:%M:%S')).days / 365"
   ]
  },
  {
   "cell_type": "code",
   "execution_count": 42,
   "metadata": {},
   "outputs": [],
   "source": [
    "calc_duration(train)"
   ]
  },
  {
   "cell_type": "markdown",
   "metadata": {},
   "source": [
    "#### Transform data of reg to Year of registration"
   ]
  },
  {
   "cell_type": "code",
   "execution_count": 43,
   "metadata": {
    "scrolled": true
   },
   "outputs": [],
   "source": [
    "transform_to_year(train)"
   ]
  },
  {
   "cell_type": "code",
   "execution_count": 44,
   "metadata": {},
   "outputs": [
    {
     "data": {
      "text/plain": [
       "2017    18536\n",
       "2018    11849\n",
       "2016     8762\n",
       "2015     4673\n",
       "2014     2323\n",
       "2013     2146\n",
       "2012     1696\n",
       "2019       12\n",
       "NAN         3\n",
       "Name: first_session_dttm, dtype: int64"
      ]
     },
     "execution_count": 44,
     "metadata": {},
     "output_type": "execute_result"
    }
   ],
   "source": [
    "train.first_session_dttm.value_counts()"
   ]
  },
  {
   "cell_type": "markdown",
   "metadata": {},
   "source": [
    "#### One-Hot-Encode"
   ]
  },
  {
   "cell_type": "code",
   "execution_count": 71,
   "metadata": {},
   "outputs": [],
   "source": [
    "features_to_encode = ['product_0', 'product_1', 'product_2', 'product_3',\n",
    "                      'product_4', 'product_5', 'product_6', 'gender_cd', 'age',\n",
    "                      'marital_status_cd', 'children_cnt', 'first_session_dttm',\n",
    "                      'job_position_cd', 'job_title']\n",
    "train_transformed = pd.get_dummies(train, columns=['product_0', 'product_1', 'product_2', 'product_3',\n",
    "       'product_4', 'product_5', 'product_6', 'gender_cd', 'age',\n",
    "       'marital_status_cd', 'children_cnt', 'first_session_dttm',\n",
    "       'job_position_cd', 'job_title'])"
   ]
  },
  {
   "cell_type": "code",
   "execution_count": 72,
   "metadata": {
    "scrolled": true
   },
   "outputs": [],
   "source": [
    "train_transformed.index = train_transformed['customer_id']\n",
    "train_transformed = train_transformed.drop(columns='customer_id')"
   ]
  },
  {
   "cell_type": "code",
   "execution_count": 54,
   "metadata": {},
   "outputs": [
    {
     "name": "stderr",
     "output_type": "stream",
     "text": [
      "/Users/farshov/anaconda3/lib/python3.7/site-packages/sklearn/preprocessing/data.py:334: DataConversionWarning: Data with input dtype uint8, int64, float64 were all converted to float64 by MinMaxScaler.\n",
      "  return self.partial_fit(X, y)\n"
     ]
    },
    {
     "data": {
      "image/png": "[encoded data removed]",
      "text/plain": [
       "<Figure size 720x360 with 1 Axes>"
      ]
     },
     "metadata": {
      "needs_background": "light"
     },
     "output_type": "display_data"
    }
   ],
   "source": [
    "#Fitting the PCA algorithm with our Data\n",
    "scaler = MinMaxScaler(feature_range=[0, 1])\n",
    "data_rescaled = scaler.fit_transform(train_transformed, )\n",
    "pca = PCA().fit(data_rescaled)\n",
    "#Plotting the Cumulative Summation of the Explained Variance\n",
    "plt.figure(figsize=(10, 5))\n",
    "plt.plot(np.cumsum(pca.explained_variance_ratio_))\n",
    "plt.xlabel('Number of Components')\n",
    "plt.ylabel('Variance (%)') #for each component\n",
    "plt.title('Pulsar Dataset Explained Variance')\n",
    "plt.show()"
   ]
  },
  {
   "cell_type": "markdown",
   "metadata": {},
   "source": [
    "### 2) Transactions"
   ]
  },
  {
   "cell_type": "markdown",
   "metadata": {},
   "source": [
    "Средняя сумма транзакций с нулями и без - done <br>\n",
    "Кол-во транзакций с нулями и без - done <br>"
   ]
  },
  {
   "cell_type": "code",
   "execution_count": null,
   "metadata": {},
   "outputs": [],
   "source": [
    "transactions = aggregate_transactions(DATA_PATH+'transactions.csv')"
   ]
  },
  {
   "cell_type": "code",
   "execution_count": null,
   "metadata": {},
   "outputs": [],
   "source": []
  }
 ],
 "metadata": {
  "kernelspec": {
   "display_name": "Python 3",
   "language": "python",
   "name": "python3"
  },
  "language_info": {
   "codemirror_mode": {
    "name": "ipython",
    "version": 3
   },
   "file_extension": ".py",
   "mimetype": "text/x-python",
   "name": "python",
   "nbconvert_exporter": "python",
   "pygments_lexer": "ipython3",
   "version": "3.7.3"
  }
 },
 "nbformat": 4,
 "nbformat_minor": 2
}
