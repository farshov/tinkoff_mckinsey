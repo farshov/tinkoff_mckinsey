{
 "cells": [
  {
   "cell_type": "code",
   "execution_count": 2,
   "metadata": {},
   "outputs": [],
   "source": [
    "import os\n",
    "import tqdm\n",
    "from os.path import join as jp\n",
    "\n",
    "import numpy as np\n",
    "import pandas as pd\n",
    "\n",
    "import matplotlib.pyplot as plt\n",
    "import seaborn as sns\n",
    "\n",
    "%matplotlib inline\n",
    "%load_ext autoreload\n",
    "%autoreload 2"
   ]
  },
  {
   "cell_type": "code",
   "execution_count": 3,
   "metadata": {},
   "outputs": [],
   "source": [
    "customer_train = pd.read_csv('../data_like/customer_train.csv')\n",
    "customer_test = pd.read_csv('../data_like/customer_test.csv')"
   ]
  },
  {
   "cell_type": "code",
   "execution_count": 4,
   "metadata": {},
   "outputs": [],
   "source": [
    "stories_description = pd.read_csv('../data_like/stories_description.csv')"
   ]
  },
  {
   "cell_type": "code",
   "execution_count": 5,
   "metadata": {},
   "outputs": [],
   "source": [
    "stories_reaction_train = pd.read_csv('../data_like/stories_reaction_train.csv')\n",
    "stories_reaction_test = pd.read_csv('../data_like/stories_reaction_test.csv')"
   ]
  },
  {
   "cell_type": "code",
   "execution_count": 6,
   "metadata": {},
   "outputs": [],
   "source": [
    "transactions = pd.read_csv('../data_like/transactions.csv')"
   ]
  },
  {
   "cell_type": "markdown",
   "metadata": {},
   "source": [
    "# Collecting Dataset"
   ]
  },
  {
   "cell_type": "code",
   "execution_count": 7,
   "metadata": {},
   "outputs": [
    {
     "data": {
      "application/vnd.jupyter.widget-view+json": {
       "model_id": "c406cf61756f4f7b9ed203f7030652de",
       "version_major": 2,
       "version_minor": 0
      },
      "text/plain": [
       "HBox(children=(IntProgress(value=0, max=473141), HTML(value='')))"
      ]
     },
     "metadata": {},
     "output_type": "display_data"
    },
    {
     "name": "stdout",
     "output_type": "stream",
     "text": [
      "\n"
     ]
    }
   ],
   "source": [
    "users_history = {}\n",
    "first_seen_idxs = []\n",
    "\n",
    "for idx in tqdm.tqdm_notebook(stories_reaction_train.index.values):\n",
    "    story_reaction = stories_reaction_train.loc[idx]\n",
    "    \n",
    "    customer_id = story_reaction.customer_id\n",
    "    story_id = story_reaction.story_id\n",
    "    \n",
    "    if customer_id not in users_history.keys():\n",
    "        users_history[customer_id] = []\n",
    "    \n",
    "    if story_id in users_history[customer_id]:\n",
    "        continue\n",
    "    else:\n",
    "        users_history[customer_id].append(story_id)\n",
    "        first_seen_idxs.append(idx)"
   ]
  },
  {
   "cell_type": "code",
   "execution_count": 8,
   "metadata": {},
   "outputs": [],
   "source": [
    "stories_first_reaction_train = stories_reaction_train.loc[first_seen_idxs]"
   ]
  },
  {
   "cell_type": "code",
   "execution_count": 9,
   "metadata": {},
   "outputs": [],
   "source": [
    "full_df = pd.merge(stories_first_reaction_train, customer_train, how='left', on='customer_id')"
   ]
  },
  {
   "cell_type": "code",
   "execution_count": 10,
   "metadata": {},
   "outputs": [
    {
     "data": {
      "text/html": [
       "<div>\n",
       "<style scoped>\n",
       "    .dataframe tbody tr th:only-of-type {\n",
       "        vertical-align: middle;\n",
       "    }\n",
       "\n",
       "    .dataframe tbody tr th {\n",
       "        vertical-align: top;\n",
       "    }\n",
       "\n",
       "    .dataframe thead th {\n",
       "        text-align: right;\n",
       "    }\n",
       "</style>\n",
       "<table border=\"1\" class=\"dataframe\">\n",
       "  <thead>\n",
       "    <tr style=\"text-align: right;\">\n",
       "      <th></th>\n",
       "      <th>customer_id</th>\n",
       "      <th>story_id</th>\n",
       "      <th>event_dttm</th>\n",
       "      <th>event</th>\n",
       "      <th>product_0</th>\n",
       "      <th>product_1</th>\n",
       "      <th>product_2</th>\n",
       "      <th>product_3</th>\n",
       "      <th>product_4</th>\n",
       "      <th>product_5</th>\n",
       "      <th>product_6</th>\n",
       "      <th>gender_cd</th>\n",
       "      <th>age</th>\n",
       "      <th>marital_status_cd</th>\n",
       "      <th>children_cnt</th>\n",
       "      <th>first_session_dttm</th>\n",
       "      <th>job_position_cd</th>\n",
       "      <th>job_title</th>\n",
       "    </tr>\n",
       "  </thead>\n",
       "  <tbody>\n",
       "    <tr>\n",
       "      <th>0</th>\n",
       "      <td>15</td>\n",
       "      <td>138</td>\n",
       "      <td>2018-07-24 15:33:22</td>\n",
       "      <td>view</td>\n",
       "      <td>NaN</td>\n",
       "      <td>CLS</td>\n",
       "      <td>UTL</td>\n",
       "      <td>UTL</td>\n",
       "      <td>NaN</td>\n",
       "      <td>UTL</td>\n",
       "      <td>UTL</td>\n",
       "      <td>M</td>\n",
       "      <td>40.0</td>\n",
       "      <td>MAR</td>\n",
       "      <td>1.0</td>\n",
       "      <td>2012-06-06 09:57:21</td>\n",
       "      <td>17.0</td>\n",
       "      <td>НАЧАЛЬНИК ОТДЕЛА</td>\n",
       "    </tr>\n",
       "    <tr>\n",
       "      <th>1</th>\n",
       "      <td>15</td>\n",
       "      <td>202</td>\n",
       "      <td>2018-06-04 08:08:08</td>\n",
       "      <td>skip</td>\n",
       "      <td>NaN</td>\n",
       "      <td>CLS</td>\n",
       "      <td>UTL</td>\n",
       "      <td>UTL</td>\n",
       "      <td>NaN</td>\n",
       "      <td>UTL</td>\n",
       "      <td>UTL</td>\n",
       "      <td>M</td>\n",
       "      <td>40.0</td>\n",
       "      <td>MAR</td>\n",
       "      <td>1.0</td>\n",
       "      <td>2012-06-06 09:57:21</td>\n",
       "      <td>17.0</td>\n",
       "      <td>НАЧАЛЬНИК ОТДЕЛА</td>\n",
       "    </tr>\n",
       "    <tr>\n",
       "      <th>2</th>\n",
       "      <td>15</td>\n",
       "      <td>222</td>\n",
       "      <td>2018-06-17 13:44:45</td>\n",
       "      <td>skip</td>\n",
       "      <td>NaN</td>\n",
       "      <td>CLS</td>\n",
       "      <td>UTL</td>\n",
       "      <td>UTL</td>\n",
       "      <td>NaN</td>\n",
       "      <td>UTL</td>\n",
       "      <td>UTL</td>\n",
       "      <td>M</td>\n",
       "      <td>40.0</td>\n",
       "      <td>MAR</td>\n",
       "      <td>1.0</td>\n",
       "      <td>2012-06-06 09:57:21</td>\n",
       "      <td>17.0</td>\n",
       "      <td>НАЧАЛЬНИК ОТДЕЛА</td>\n",
       "    </tr>\n",
       "    <tr>\n",
       "      <th>3</th>\n",
       "      <td>15</td>\n",
       "      <td>379</td>\n",
       "      <td>2018-05-23 05:41:43</td>\n",
       "      <td>skip</td>\n",
       "      <td>NaN</td>\n",
       "      <td>CLS</td>\n",
       "      <td>UTL</td>\n",
       "      <td>UTL</td>\n",
       "      <td>NaN</td>\n",
       "      <td>UTL</td>\n",
       "      <td>UTL</td>\n",
       "      <td>M</td>\n",
       "      <td>40.0</td>\n",
       "      <td>MAR</td>\n",
       "      <td>1.0</td>\n",
       "      <td>2012-06-06 09:57:21</td>\n",
       "      <td>17.0</td>\n",
       "      <td>НАЧАЛЬНИК ОТДЕЛА</td>\n",
       "    </tr>\n",
       "    <tr>\n",
       "      <th>4</th>\n",
       "      <td>15</td>\n",
       "      <td>544</td>\n",
       "      <td>2018-07-25 02:16:29</td>\n",
       "      <td>view</td>\n",
       "      <td>NaN</td>\n",
       "      <td>CLS</td>\n",
       "      <td>UTL</td>\n",
       "      <td>UTL</td>\n",
       "      <td>NaN</td>\n",
       "      <td>UTL</td>\n",
       "      <td>UTL</td>\n",
       "      <td>M</td>\n",
       "      <td>40.0</td>\n",
       "      <td>MAR</td>\n",
       "      <td>1.0</td>\n",
       "      <td>2012-06-06 09:57:21</td>\n",
       "      <td>17.0</td>\n",
       "      <td>НАЧАЛЬНИК ОТДЕЛА</td>\n",
       "    </tr>\n",
       "  </tbody>\n",
       "</table>\n",
       "</div>"
      ],
      "text/plain": [
       "   customer_id  story_id           event_dttm event product_0 product_1  \\\n",
       "0           15       138  2018-07-24 15:33:22  view       NaN       CLS   \n",
       "1           15       202  2018-06-04 08:08:08  skip       NaN       CLS   \n",
       "2           15       222  2018-06-17 13:44:45  skip       NaN       CLS   \n",
       "3           15       379  2018-05-23 05:41:43  skip       NaN       CLS   \n",
       "4           15       544  2018-07-25 02:16:29  view       NaN       CLS   \n",
       "\n",
       "  product_2 product_3 product_4 product_5 product_6 gender_cd   age  \\\n",
       "0       UTL       UTL       NaN       UTL       UTL         M  40.0   \n",
       "1       UTL       UTL       NaN       UTL       UTL         M  40.0   \n",
       "2       UTL       UTL       NaN       UTL       UTL         M  40.0   \n",
       "3       UTL       UTL       NaN       UTL       UTL         M  40.0   \n",
       "4       UTL       UTL       NaN       UTL       UTL         M  40.0   \n",
       "\n",
       "  marital_status_cd  children_cnt   first_session_dttm  job_position_cd  \\\n",
       "0               MAR           1.0  2012-06-06 09:57:21             17.0   \n",
       "1               MAR           1.0  2012-06-06 09:57:21             17.0   \n",
       "2               MAR           1.0  2012-06-06 09:57:21             17.0   \n",
       "3               MAR           1.0  2012-06-06 09:57:21             17.0   \n",
       "4               MAR           1.0  2012-06-06 09:57:21             17.0   \n",
       "\n",
       "          job_title  \n",
       "0  НАЧАЛЬНИК ОТДЕЛА  \n",
       "1  НАЧАЛЬНИК ОТДЕЛА  \n",
       "2  НАЧАЛЬНИК ОТДЕЛА  \n",
       "3  НАЧАЛЬНИК ОТДЕЛА  \n",
       "4  НАЧАЛЬНИК ОТДЕЛА  "
      ]
     },
     "execution_count": 10,
     "metadata": {},
     "output_type": "execute_result"
    }
   ],
   "source": [
    "full_df.head()"
   ]
  },
  {
   "cell_type": "markdown",
   "metadata": {},
   "source": [
    "# Preprocessing"
   ]
  },
  {
   "cell_type": "code",
   "execution_count": 11,
   "metadata": {},
   "outputs": [],
   "source": [
    "X = full_df.drop(columns='event')\n",
    "y = full_df.event"
   ]
  },
  {
   "cell_type": "code",
   "execution_count": 12,
   "metadata": {},
   "outputs": [
    {
     "data": {
      "text/plain": [
       "True"
      ]
     },
     "execution_count": 12,
     "metadata": {},
     "output_type": "execute_result"
    }
   ],
   "source": [
    "np.any(X.isna())"
   ]
  },
  {
   "cell_type": "code",
   "execution_count": 13,
   "metadata": {},
   "outputs": [
    {
     "data": {
      "text/plain": [
       "False"
      ]
     },
     "execution_count": 13,
     "metadata": {},
     "output_type": "execute_result"
    }
   ],
   "source": [
    "np.any(y.isna())"
   ]
  },
  {
   "cell_type": "code",
   "execution_count": 14,
   "metadata": {},
   "outputs": [],
   "source": [
    "from datetime import datetime\n",
    "\n",
    "def transform_to_year(data, dt_column_name):\n",
    "    years = ['nan'] * len(data)\n",
    "    for i in tqdm.tqdm(range(len(data))):\n",
    "        date = data[dt_column_name][i]\n",
    "        if date != 'nan' and isinstance(date, str):\n",
    "            years[i] = datetime.strptime(data[dt_column_name][i], '%Y-%m-%d %H:%M:%S').year\n",
    "    data[dt_column_name] = years"
   ]
  },
  {
   "cell_type": "code",
   "execution_count": 15,
   "metadata": {},
   "outputs": [
    {
     "name": "stderr",
     "output_type": "stream",
     "text": [
      "100%|██████████| 449802/449802 [00:13<00:00, 32273.13it/s]\n",
      "100%|██████████| 449802/449802 [00:13<00:00, 34008.59it/s]\n"
     ]
    }
   ],
   "source": [
    "X.story_id = X.story_id.astype('str')\n",
    "\n",
    "products = list(map(lambda x: f'product_{x}', np.arange(7)))\n",
    "X[products] = X[products].fillna('UPS')\n",
    "\n",
    "X.gender_cd = X.gender_cd.fillna('B')\n",
    "\n",
    "X.marital_status_cd = X.marital_status_cd.fillna('UMS')\n",
    "\n",
    "X.children_cnt = X.children_cnt.fillna(int(X.children_cnt.mean()))\n",
    "X.children_cnt = X.children_cnt.astype('str')\n",
    "\n",
    "X.age = X.age.fillna(30)\n",
    "X.age = X.age.astype('str')\n",
    "\n",
    "X.job_position_cd = X.job_position_cd.fillna(-1)\n",
    "X.job_position_cd = X.job_position_cd.astype('str')\n",
    "\n",
    "transform_to_year(X, 'event_dttm')\n",
    "X.event_dttm = X.event_dttm.astype('str')\n",
    "\n",
    "transform_to_year(X, 'first_session_dttm')\n",
    "X.first_session_dttm = X.first_session_dttm.astype('str')\n",
    "\n",
    "X.drop(columns=['job_title'], inplace=True)"
   ]
  },
  {
   "cell_type": "code",
   "execution_count": 16,
   "metadata": {},
   "outputs": [
    {
     "data": {
      "text/plain": [
       "False"
      ]
     },
     "execution_count": 16,
     "metadata": {},
     "output_type": "execute_result"
    }
   ],
   "source": [
    "np.any(X.isna())"
   ]
  },
  {
   "cell_type": "code",
   "execution_count": 17,
   "metadata": {},
   "outputs": [],
   "source": [
    "dummy_X = pd.get_dummies(X)"
   ]
  },
  {
   "cell_type": "code",
   "execution_count": 18,
   "metadata": {},
   "outputs": [],
   "source": [
    "from sklearn.preprocessing import LabelEncoder\n",
    "\n",
    "le = LabelEncoder()\n",
    "le_y = le.fit_transform(y)"
   ]
  },
  {
   "cell_type": "code",
   "execution_count": 19,
   "metadata": {},
   "outputs": [
    {
     "data": {
      "text/plain": [
       "{'dislike': 0, 'like': 1, 'skip': 2, 'view': 3}"
      ]
     },
     "execution_count": 19,
     "metadata": {},
     "output_type": "execute_result"
    }
   ],
   "source": [
    "dict(zip(le.classes_, le.transform(le.classes_)))"
   ]
  },
  {
   "cell_type": "code",
   "execution_count": 20,
   "metadata": {},
   "outputs": [],
   "source": [
    "X_train, X_test, y_train, y_test = dummy_X[:301363], dummy_X[301363:], le_y[:301363], le_y[301363:]"
   ]
  },
  {
   "cell_type": "code",
   "execution_count": 21,
   "metadata": {},
   "outputs": [
    {
     "data": {
      "image/png": "[encoded data removed]",
      "text/plain": [
       "<Figure size 1440x360 with 2 Axes>"
      ]
     },
     "metadata": {
      "needs_background": "light"
     },
     "output_type": "display_data"
    }
   ],
   "source": [
    "fig, ax = plt.subplots(1, 2, figsize=(20, 5))\n",
    "\n",
    "sns.countplot(y_train, ax=ax[0])\n",
    "ax[0].set_title('train')\n",
    "\n",
    "sns.countplot(y_test, ax=ax[1])\n",
    "ax[1].set_title('test')\n",
    "\n",
    "plt.show()"
   ]
  },
  {
   "cell_type": "code",
   "execution_count": null,
   "metadata": {},
   "outputs": [],
   "source": [
    "from sklearn.model_selection import GroupKFold, GridSearchCV"
   ]
  },
  {
   "cell_type": "code",
   "execution_count": null,
   "metadata": {},
   "outputs": [],
   "source": [
    "groups = X_train.customer_id\n",
    "\n",
    "gkf = GroupKFold(n_splits=5).split(X_train, y_train, groups)"
   ]
  },
  {
   "cell_type": "code",
   "execution_count": null,
   "metadata": {},
   "outputs": [],
   "source": [
    "X_train = X_train.drop(columns=['customer_id'])\n",
    "X_test = X_test.drop(columns=['customer_id'])"
   ]
  },
  {
   "cell_type": "code",
   "execution_count": 22,
   "metadata": {},
   "outputs": [],
   "source": [
    "from xgboost import XGBClassifier"
   ]
  },
  {
   "cell_type": "code",
   "execution_count": 23,
   "metadata": {},
   "outputs": [],
   "source": [
    "xgbc = XGBClassifier()"
   ]
  },
  {
   "cell_type": "code",
   "execution_count": 24,
   "metadata": {},
   "outputs": [
    {
     "data": {
      "text/plain": [
       "XGBClassifier(base_score=0.5, booster='gbtree', colsample_bylevel=1,\n",
       "              colsample_bynode=1, colsample_bytree=1, gamma=0,\n",
       "              learning_rate=0.1, max_delta_step=0, max_depth=3,\n",
       "              min_child_weight=1, missing=None, n_estimators=100, n_jobs=1,\n",
       "              nthread=None, objective='multi:softprob', random_state=0,\n",
       "              reg_alpha=0, reg_lambda=1, scale_pos_weight=1, seed=None,\n",
       "              silent=None, subsample=1, verbosity=1)"
      ]
     },
     "execution_count": 24,
     "metadata": {},
     "output_type": "execute_result"
    }
   ],
   "source": [
    "xgbc.fit(X_train, y_train)"
   ]
  },
  {
   "cell_type": "code",
   "execution_count": 26,
   "metadata": {},
   "outputs": [],
   "source": [
    "y_pred = xgbc.predict(X_test)"
   ]
  },
  {
   "cell_type": "code",
   "execution_count": 32,
   "metadata": {},
   "outputs": [],
   "source": [
    "pred_probas = xgbc.predict_proba(X_test)"
   ]
  },
  {
   "cell_type": "code",
   "execution_count": 70,
   "metadata": {},
   "outputs": [
    {
     "name": "stdout",
     "output_type": "stream",
     "text": [
      "constant score: 0.5239795471540498\n",
      "predicts score: 0.5464197414426127\n"
     ]
    }
   ],
   "source": [
    "from sklearn.metrics import accuracy_score\n",
    "\n",
    "print(f'constant score: {accuracy_score(y_test, [3] * len(y_test))}')\n",
    "print(f'predicts score: {accuracy_score(y_test, y_pred)}')"
   ]
  },
  {
   "cell_type": "code",
   "execution_count": 73,
   "metadata": {},
   "outputs": [],
   "source": [
    "from lib.metric import competition_metric, probas2scores"
   ]
  },
  {
   "cell_type": "code",
   "execution_count": 79,
   "metadata": {},
   "outputs": [],
   "source": [
    "events = le.inverse_transform(y_test)"
   ]
  },
  {
   "cell_type": "code",
   "execution_count": 80,
   "metadata": {},
   "outputs": [
    {
     "name": "stdout",
     "output_type": "stream",
     "text": [
      "metric: 1348.3154532133751\n"
     ]
    }
   ],
   "source": [
    "print(f'metric: {competition_metric(events, probas2scores(events, pred_probas))}')"
   ]
  },
  {
   "cell_type": "code",
   "execution_count": null,
   "metadata": {},
   "outputs": [],
   "source": []
  }
 ],
 "metadata": {
  "kernelspec": {
   "display_name": "Python 3",
   "language": "python",
   "name": "python3"
  },
  "language_info": {
   "codemirror_mode": {
    "name": "ipython",
    "version": 3
   },
   "file_extension": ".py",
   "mimetype": "text/x-python",
   "name": "python",
   "nbconvert_exporter": "python",
   "pygments_lexer": "ipython3",
   "version": "3.7.3"
  }
 },
 "nbformat": 4,
 "nbformat_minor": 2
}
