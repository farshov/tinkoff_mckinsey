{
 "cells": [
  {
   "cell_type": "markdown",
   "metadata": {},
   "source": [
    "https://towardsdatascience.com/predict-the-number-of-likes-on-instagram-a7ec5c020203"
   ]
  },
  {
   "cell_type": "markdown",
   "metadata": {},
   "source": [
    "# Imports"
   ]
  },
  {
   "cell_type": "code",
   "execution_count": 1,
   "metadata": {},
   "outputs": [],
   "source": [
    "import os,sys,inspect\n",
    "current_dir = os.path.dirname(os.path.abspath(inspect.getfile(inspect.currentframe())))\n",
    "parent_dir = os.path.dirname(current_dir)\n",
    "sys.path.insert(0, parent_dir)\n",
    "\n",
    "from lib.utils import clean_sentence, clean_text, extract_date_info, embedings2df\n",
    "from lib.preprocess import calc_duration, transform_to_year, aggregate_transactions"
   ]
  },
  {
   "cell_type": "code",
   "execution_count": 5,
   "metadata": {},
   "outputs": [
    {
     "name": "stdout",
     "output_type": "stream",
     "text": [
      "The autoreload extension is already loaded. To reload it, use:\n",
      "  %reload_ext autoreload\n"
     ]
    }
   ],
   "source": [
    "import pandas as pd\n",
    "import json\n",
    "import numpy as np\n",
    "import re\n",
    "import pickle\n",
    "from datetime import datetime\n",
    "import tqdm\n",
    "\n",
    "from PIL import Image\n",
    "import requests\n",
    "from io import BytesIO\n",
    "\n",
    "from sklearn.preprocessing import OneHotEncoder\n",
    "from sklearn.decomposition import PCA\n",
    "from sklearn.preprocessing import MinMaxScaler\n",
    "from sklearn.cluster import KMeans\n",
    "from sklearn.metrics import davies_bouldin_score, silhouette_score\n",
    "\n",
    "from bert_embedding import BertEmbedding\n",
    "\n",
    "# import nltk\n",
    "# import deeppavlov\n",
    "import gensim\n",
    "import gc\n",
    "# from pymystem3 import Mystem\n",
    "from gensim.models.wrappers import FastText\n",
    "\n",
    "import matplotlib.pyplot as plt\n",
    "\n",
    "\n",
    "%load_ext autoreload\n",
    "%autoreload 2"
   ]
  },
  {
   "cell_type": "markdown",
   "metadata": {},
   "source": [
    "# Data Loading"
   ]
  },
  {
   "cell_type": "code",
   "execution_count": 9,
   "metadata": {},
   "outputs": [],
   "source": [
    "DATA_PATH = '../data_like/'"
   ]
  },
  {
   "cell_type": "code",
   "execution_count": 10,
   "metadata": {},
   "outputs": [],
   "source": [
    "train = pd.read_csv(DATA_PATH+'customer_train.csv')\n",
    "test = pd.read_csv(DATA_PATH+'customer_test.csv')\n",
    "\n",
    "stories = pd.read_csv(DATA_PATH+'stories_description.csv')\n",
    "\n",
    "train_y = pd.read_csv(DATA_PATH+'stories_reaction_train.csv')\n",
    "test_y = pd.read_csv(DATA_PATH+'stories_reaction_test.csv')\n",
    "\n",
    "transaction = pd.read_csv(DATA_PATH+'transactions.csv')"
   ]
  },
  {
   "cell_type": "markdown",
   "metadata": {},
   "source": [
    "# Extracting text features from jsons"
   ]
  },
  {
   "cell_type": "code",
   "execution_count": 5,
   "metadata": {},
   "outputs": [],
   "source": [
    "REG_TEXT = \"text\\\":\\\"(.*?)\\\",\"\n",
    "REG_NAME = \"name\\\":\\\"(.*?)\\\",\"\n",
    "NUM_SWIPES = \"description\\\":\\\"[0-9]{1,2}\"\n",
    "\n",
    "r = re.findall(REG_NAME, stories['story_json'][10])"
   ]
  },
  {
   "cell_type": "code",
   "execution_count": 6,
   "metadata": {},
   "outputs": [],
   "source": [
    "decoded_stories = dict()\n",
    "for i in stories.index:\n",
    "    cur_story = stories['story_json'][i]\n",
    "    story_info = dict()\n",
    "    name = re.findall(REG_NAME, cur_story)\n",
    "    story_info['name'] = \"\" if len(name) == 0 else clean_sentence(name[0])\n",
    "    story_info['text'], story_info['n_words'] = clean_text(re.findall(REG_TEXT, cur_story))\n",
    "    story_info['swipes'] = len(re.findall(NUM_SWIPES, cur_story))\n",
    "    decoded_stories[stories['story_id'][i]] = story_info"
   ]
  },
  {
   "cell_type": "code",
   "execution_count": 7,
   "metadata": {},
   "outputs": [],
   "source": [
    "CATEGORY = \"text\\\":\\\"[А-ЯA-Z]+\\\"\""
   ]
  },
  {
   "cell_type": "code",
   "execution_count": 10,
   "metadata": {},
   "outputs": [],
   "source": [
    "# with open(\"stories\", \"rb\") as fp:\n",
    "#     b = pickle.load(fp)"
   ]
  },
  {
   "cell_type": "markdown",
   "metadata": {},
   "source": [
    "# Extracting images from jsons"
   ]
  },
  {
   "cell_type": "code",
   "execution_count": 126,
   "metadata": {},
   "outputs": [],
   "source": [
    "URL_STORY = '\"url\":\"([A-Za-z0-9:\\/._]+tinkoff[A-Za-z0-9:\\/._]+)\"'\n",
    "IMG_URL_STORY = '\"image_url\":\"([A-Za-z0-9:\\/._]+tinkoff[A-Za-z0-9:\\/._]+)\"'"
   ]
  },
  {
   "cell_type": "code",
   "execution_count": 130,
   "metadata": {},
   "outputs": [],
   "source": [
    "images = dict()\n",
    "for i in stories.index:\n",
    "    idx = stories['story_id'][i]\n",
    "    cur_story = stories['story_json'][i]\n",
    "    images[idx] = re.findall(URL_STORY, cur_story) + re.findall(IMG_URL_STORY, cur_story)  "
   ]
  },
  {
   "cell_type": "code",
   "execution_count": 134,
   "metadata": {},
   "outputs": [],
   "source": [
    "# with open(\"../PreprocessedData/url_stories\", \"wb\") as fp:\n",
    "#     pickle.dump(images, fp)"
   ]
  },
  {
   "cell_type": "markdown",
   "metadata": {},
   "source": [
    "# Data Analysis "
   ]
  },
  {
   "cell_type": "markdown",
   "metadata": {},
   "source": [
    "## 1) Likes, Dislikes and other stuff"
   ]
  },
  {
   "cell_type": "markdown",
   "metadata": {},
   "source": [
    "#### Customers can watch the same stories few times, can be a good feature"
   ]
  },
  {
   "cell_type": "code",
   "execution_count": 13,
   "metadata": {},
   "outputs": [
    {
     "data": {
      "text/plain": [
       "view       0.512135\n",
       "skip       0.354159\n",
       "like       0.119810\n",
       "dislike    0.013896\n",
       "Name: event, dtype: float64"
      ]
     },
     "execution_count": 13,
     "metadata": {},
     "output_type": "execute_result"
    }
   ],
   "source": [
    "train_y.event.value_counts() / len(train_y)"
   ]
  },
  {
   "cell_type": "markdown",
   "metadata": {},
   "source": [
    "top_liked : top_disliked  ==  31 <br>\n",
    "top_viewed : top_disliked  ==  22 <br>\n",
    "top_skiped : top_disliked  ==  20 <br>\n",
    "top_viewed : top_liked  == 29 <br>\n",
    "top_skiped : top_liked == 24 <br>\n",
    "top_viewed : top_skiped == 27 <br>"
   ]
  },
  {
   "cell_type": "markdown",
   "metadata": {},
   "source": [
    "### ???? disliked are much more similar to liked, may be it is a misclick of user ?????"
   ]
  },
  {
   "cell_type": "markdown",
   "metadata": {},
   "source": [
    "## 2) Users info"
   ]
  },
  {
   "cell_type": "markdown",
   "metadata": {},
   "source": [
    "## 3) Transactions"
   ]
  },
  {
   "cell_type": "markdown",
   "metadata": {},
   "source": [
    "#### There are a lot of popular shops, maybe like x5 "
   ]
  },
  {
   "cell_type": "code",
   "execution_count": 17,
   "metadata": {},
   "outputs": [
    {
     "data": {
      "text/plain": [
       "409"
      ]
     },
     "execution_count": 17,
     "metadata": {},
     "output_type": "execute_result"
    }
   ],
   "source": [
    "len(transaction.merchant_mcc.value_counts())"
   ]
  },
  {
   "cell_type": "code",
   "execution_count": 18,
   "metadata": {
    "scrolled": true
   },
   "outputs": [
    {
     "data": {
      "image/png": "[encoded data removed]",
      "text/plain": [
       "<Figure size 432x288 with 1 Axes>"
      ]
     },
     "metadata": {
      "needs_background": "light"
     },
     "output_type": "display_data"
    },
    {
     "data": {
      "text/plain": [
       "514522     804\n",
       "588639     788\n",
       "333041     768\n",
       "588106     700\n",
       "673392     690\n",
       "          ... \n",
       "542958       1\n",
       "462666       1\n",
       "743422       1\n",
       "1010076      1\n",
       "195566       1\n",
       "Name: customer_id, Length: 46948, dtype: int64"
      ]
     },
     "execution_count": 18,
     "metadata": {},
     "output_type": "execute_result"
    }
   ],
   "source": [
    "_ = plt.hist(transaction.customer_id.value_counts(), bins='auto')  # arguments are passed to np.histogram\n",
    "plt.title(\"Histogram with 'auto' bins\")\n",
    "plt.show()\n",
    "transaction.customer_id.value_counts()"
   ]
  },
  {
   "cell_type": "markdown",
   "metadata": {},
   "source": [
    "#### Ideas: <br> 1. average amount of money for transaction for each user, two features: average over all transactions and of >0 rubles transactions<br> 2. average number of transaction per month <br> 3. Maybe if user visits top popular shops "
   ]
  },
  {
   "cell_type": "markdown",
   "metadata": {},
   "source": [
    "# -----------------------------"
   ]
  },
  {
   "cell_type": "markdown",
   "metadata": {},
   "source": [
    "# Preprocessing"
   ]
  },
  {
   "cell_type": "markdown",
   "metadata": {},
   "source": [
    "# -1) BERT Embedding"
   ]
  },
  {
   "cell_type": "code",
   "execution_count": 11,
   "metadata": {},
   "outputs": [],
   "source": [
    "#  BertEmbedding(dataset_name='../PretrainedEmbeddings/rubert_cased_L-12_H-768_A-12_v2.tar')"
   ]
  },
  {
   "cell_type": "code",
   "execution_count": 4,
   "metadata": {},
   "outputs": [
    {
     "name": "stderr",
     "output_type": "stream",
     "text": [
      "UsageError: Line magic function `%` not found.\n"
     ]
    }
   ],
   "source": [
    "import torch\n",
    "from pytorch_pretrained_bert import BertTokenizer, BertModel, BertForMaskedLM\n",
    "\n",
    "# OPTIONAL: if you want to have more information on what's happening, activate the logger as follows\n",
    "import logging\n",
    "#logging.basicConfig(level=logging.INFO)\n",
    "\n",
    "import matplotlib.pyplot as plt\n",
    "% matplotlib inline\n",
    "\n",
    "# Load pre-trained model tokenizer (vocabulary)\n",
    "tokenizer = BertTokenizer.from_pretrained('../PretrainedEmbeddings/rubert_cased_L-12_H-768_A-12_v2.tar')"
   ]
  },
  {
   "cell_type": "code",
   "execution_count": null,
   "metadata": {},
   "outputs": [],
   "source": []
  },
  {
   "cell_type": "code",
   "execution_count": null,
   "metadata": {},
   "outputs": [],
   "source": [
    "vector = bse.get_vector('Привет как дела лол', word_vector=False, layer=-1)   # 3rd line 1. get vector of string"
   ]
  },
  {
   "cell_type": "markdown",
   "metadata": {},
   "source": [
    "## 0) Extracting images"
   ]
  },
  {
   "cell_type": "code",
   "execution_count": 49,
   "metadata": {},
   "outputs": [],
   "source": [
    "url = 'https://static2.tinkoff.ru/portfolio/stories/images/57_3.png'"
   ]
  },
  {
   "cell_type": "code",
   "execution_count": 50,
   "metadata": {},
   "outputs": [],
   "source": [
    "response = requests.get(url)\n",
    "img = Image.open(BytesIO(response.content))"
   ]
  },
  {
   "cell_type": "code",
   "execution_count": 70,
   "metadata": {},
   "outputs": [
    {
     "data": {
      "text/plain": [
       "(864, 1920, 3)"
      ]
     },
     "execution_count": 70,
     "metadata": {},
     "output_type": "execute_result"
    }
   ],
   "source": [
    "np.array(img.convert('RGB')).shape"
   ]
  },
  {
   "cell_type": "markdown",
   "metadata": {},
   "source": [
    "## 1) Customer_train/test"
   ]
  },
  {
   "cell_type": "markdown",
   "metadata": {},
   "source": [
    "Порезаьть те вещи, которые я указал выше - done<br>\n",
    "Посчитать число лет от текущего момента - done <br>\n",
    "Переделать дату - done"
   ]
  },
  {
   "cell_type": "code",
   "execution_count": 15,
   "metadata": {},
   "outputs": [
    {
     "name": "stdout",
     "output_type": "stream",
     "text": [
      "(50000, 15)\n",
      "(54245, 15)\n"
     ]
    }
   ],
   "source": [
    "train = pd.read_csv(DATA_PATH+'customer_train.csv')\n",
    "test = pd.read_csv(DATA_PATH+'customer_test.csv')\n",
    "print(train.shape)\n",
    "print(test.shape)"
   ]
  },
  {
   "cell_type": "markdown",
   "metadata": {},
   "source": [
    "#### Cutting very rare stuff"
   ]
  },
  {
   "cell_type": "code",
   "execution_count": 16,
   "metadata": {},
   "outputs": [],
   "source": [
    "train.age = train.age.fillna(np.mean(train.age.dropna()))\n",
    "test.age = test.age.fillna(np.mean(test.age.dropna()))"
   ]
  },
  {
   "cell_type": "code",
   "execution_count": 17,
   "metadata": {},
   "outputs": [],
   "source": [
    "nan = 'NAN'\n",
    "train = train.fillna(nan)\n",
    "test = test.fillna(nan)"
   ]
  },
  {
   "cell_type": "markdown",
   "metadata": {},
   "source": [
    "### Важная часть, перенес ниже"
   ]
  },
  {
   "cell_type": "code",
   "execution_count": 18,
   "metadata": {},
   "outputs": [],
   "source": [
    "# Delete rare jobs because it may be useless during one-hot encoding\n",
    "# train.job_title = [job.lower() if isinstance(job, type('aaa')) else job for job in train.job_title]\n",
    "# common_jobs = set(train['job_title'].value_counts().keys()[train['job_title'].value_counts() > 25])\n",
    "# train.job_title = [job if job in common_jobs else nan for job in train.job_title]\n",
    "\n",
    "# test.job_title = [job.lower() if isinstance(job, type('aaa')) else job for job in test.job_title]\n",
    "# common_jobs = set(test['job_title'].value_counts().keys()[test['job_title'].value_counts() > 25])\n",
    "# test.job_title = [job if job in common_jobs else nan for job in test.job_title]"
   ]
  },
  {
   "cell_type": "code",
   "execution_count": 19,
   "metadata": {},
   "outputs": [],
   "source": [
    "# common_n_status = set(train['marital_status_cd'].value_counts().keys()[train['marital_status_cd'].value_counts() > 2])\n",
    "# train.marital_status_cd = [ch if ch in common_n_status else nan for ch in train.marital_status_cd]"
   ]
  },
  {
   "cell_type": "markdown",
   "metadata": {},
   "source": [
    "#### Calculating amount of time since regestration till now"
   ]
  },
  {
   "cell_type": "code",
   "execution_count": 20,
   "metadata": {},
   "outputs": [],
   "source": [
    "calc_duration(train)\n",
    "calc_duration(test)"
   ]
  },
  {
   "cell_type": "markdown",
   "metadata": {},
   "source": [
    "#### Transform data of reg to Year of registration"
   ]
  },
  {
   "cell_type": "code",
   "execution_count": 21,
   "metadata": {
    "scrolled": true
   },
   "outputs": [],
   "source": [
    "transform_to_year(train)\n",
    "transform_to_year(test)"
   ]
  },
  {
   "cell_type": "markdown",
   "metadata": {},
   "source": [
    "#### One-Hot-Encode"
   ]
  },
  {
   "cell_type": "code",
   "execution_count": 22,
   "metadata": {},
   "outputs": [
    {
     "name": "stdout",
     "output_type": "stream",
     "text": [
      "(50000, 16)\n",
      "(54245, 16)\n"
     ]
    }
   ],
   "source": [
    "print(train.shape)\n",
    "print(test.shape)"
   ]
  },
  {
   "cell_type": "code",
   "execution_count": 23,
   "metadata": {},
   "outputs": [],
   "source": [
    "X = pd.concat((train, test))"
   ]
  },
  {
   "cell_type": "code",
   "execution_count": 24,
   "metadata": {},
   "outputs": [],
   "source": [
    "X.job_title = [job.lower() if isinstance(job, type('aaa')) else job for job in X.job_title]\n",
    "common_jobs = set(X['job_title'].value_counts().keys()[X['job_title'].value_counts() > 30])\n",
    "X.job_title = [job if job in common_jobs else nan for job in X.job_title]"
   ]
  },
  {
   "cell_type": "code",
   "execution_count": 25,
   "metadata": {},
   "outputs": [
    {
     "data": {
      "text/plain": [
       "(104245, 16)"
      ]
     },
     "execution_count": 25,
     "metadata": {},
     "output_type": "execute_result"
    }
   ],
   "source": [
    "X.shape"
   ]
  },
  {
   "cell_type": "code",
   "execution_count": 26,
   "metadata": {},
   "outputs": [],
   "source": [
    "features_to_encode = ['product_0', 'product_1', 'product_2', 'product_3',\n",
    "                      'product_4', 'product_5', 'product_6', 'gender_cd',\n",
    "                      'marital_status_cd', 'children_cnt', 'first_session_dttm',\n",
    "                      'job_position_cd', 'job_title']\n",
    "train_transformed = pd.get_dummies(X, columns=features_to_encode)"
   ]
  },
  {
   "cell_type": "code",
   "execution_count": 27,
   "metadata": {},
   "outputs": [],
   "source": [
    "train = train_transformed.iloc[0: train.shape[0]]\n",
    "test = train_transformed.iloc[train.shape[0]: ]"
   ]
  },
  {
   "cell_type": "code",
   "execution_count": 28,
   "metadata": {},
   "outputs": [
    {
     "data": {
      "text/plain": [
       "(50000, 275)"
      ]
     },
     "execution_count": 28,
     "metadata": {},
     "output_type": "execute_result"
    }
   ],
   "source": [
    "train.shape"
   ]
  },
  {
   "cell_type": "code",
   "execution_count": 29,
   "metadata": {},
   "outputs": [
    {
     "data": {
      "text/plain": [
       "(54245, 275)"
      ]
     },
     "execution_count": 29,
     "metadata": {},
     "output_type": "execute_result"
    }
   ],
   "source": [
    "test.shape"
   ]
  },
  {
   "cell_type": "code",
   "execution_count": 30,
   "metadata": {
    "scrolled": true
   },
   "outputs": [],
   "source": [
    "train_transformed.index = train_transformed['customer_id']\n",
    "train_transformed = train_transformed.drop(columns='customer_id')"
   ]
  },
  {
   "cell_type": "code",
   "execution_count": 36,
   "metadata": {},
   "outputs": [
    {
     "data": {
      "image/png": "[encoded data removed]",
      "text/plain": [
       "<Figure size 720x360 with 1 Axes>"
      ]
     },
     "metadata": {
      "needs_background": "light"
     },
     "output_type": "display_data"
    }
   ],
   "source": [
    "#Fitting the PCA algorithm with our Data\n",
    "scaler = MinMaxScaler(feature_range=[0, 1])\n",
    "data_rescaled = scaler.fit_transform(train_transformed, )\n",
    "pca = PCA().fit(data_rescaled)\n",
    "#Plotting the Cumulative Summation of the Explained Variance\n",
    "plt.figure(figsize=(10, 5))\n",
    "plt.plot(np.cumsum(pca.explained_variance_ratio_))\n",
    "plt.xlabel('Number of Components')\n",
    "plt.ylabel('Variance (%)') #for each component\n",
    "plt.title('Pulsar Dataset Explained Variance')\n",
    "plt.show()"
   ]
  },
  {
   "cell_type": "markdown",
   "metadata": {},
   "source": [
    "## 2) Transactions"
   ]
  },
  {
   "cell_type": "markdown",
   "metadata": {},
   "source": [
    "Средняя сумма транзакций с нулями и без - done <br>\n",
    "Кол-во транзакций с нулями и без - done <br>"
   ]
  },
  {
   "cell_type": "code",
   "execution_count": 37,
   "metadata": {},
   "outputs": [],
   "source": [
    "transactions = aggregate_transactions(DATA_PATH+'transactions.csv')"
   ]
  },
  {
   "cell_type": "code",
   "execution_count": 38,
   "metadata": {},
   "outputs": [
    {
     "data": {
      "text/html": [
       "<div>\n",
       "<style scoped>\n",
       "    .dataframe tbody tr th:only-of-type {\n",
       "        vertical-align: middle;\n",
       "    }\n",
       "\n",
       "    .dataframe tbody tr th {\n",
       "        vertical-align: top;\n",
       "    }\n",
       "\n",
       "    .dataframe thead th {\n",
       "        text-align: right;\n",
       "    }\n",
       "</style>\n",
       "<table border=\"1\" class=\"dataframe\">\n",
       "  <thead>\n",
       "    <tr style=\"text-align: right;\">\n",
       "      <th></th>\n",
       "      <th>av</th>\n",
       "      <th>av_n_z</th>\n",
       "      <th>num_tr</th>\n",
       "      <th>num_tr_n_z</th>\n",
       "    </tr>\n",
       "  </thead>\n",
       "  <tbody>\n",
       "    <tr>\n",
       "      <td>15</td>\n",
       "      <td>22210.000000</td>\n",
       "      <td>23627.659574</td>\n",
       "      <td>100.0</td>\n",
       "      <td>2221000.0</td>\n",
       "    </tr>\n",
       "    <tr>\n",
       "      <td>73</td>\n",
       "      <td>3768.852459</td>\n",
       "      <td>5063.876652</td>\n",
       "      <td>305.0</td>\n",
       "      <td>1149500.0</td>\n",
       "    </tr>\n",
       "    <tr>\n",
       "      <td>91</td>\n",
       "      <td>3588.983051</td>\n",
       "      <td>4505.319149</td>\n",
       "      <td>118.0</td>\n",
       "      <td>423500.0</td>\n",
       "    </tr>\n",
       "    <tr>\n",
       "      <td>144</td>\n",
       "      <td>1000.000000</td>\n",
       "      <td>1250.000000</td>\n",
       "      <td>5.0</td>\n",
       "      <td>5000.0</td>\n",
       "    </tr>\n",
       "    <tr>\n",
       "      <td>150</td>\n",
       "      <td>0.000000</td>\n",
       "      <td>0.000000</td>\n",
       "      <td>4.0</td>\n",
       "      <td>1.0</td>\n",
       "    </tr>\n",
       "  </tbody>\n",
       "</table>\n",
       "</div>"
      ],
      "text/plain": [
       "               av        av_n_z  num_tr  num_tr_n_z\n",
       "15   22210.000000  23627.659574   100.0   2221000.0\n",
       "73    3768.852459   5063.876652   305.0   1149500.0\n",
       "91    3588.983051   4505.319149   118.0    423500.0\n",
       "144   1000.000000   1250.000000     5.0      5000.0\n",
       "150      0.000000      0.000000     4.0         1.0"
      ]
     },
     "execution_count": 38,
     "metadata": {},
     "output_type": "execute_result"
    }
   ],
   "source": [
    "transactions.head()"
   ]
  },
  {
   "cell_type": "code",
   "execution_count": 39,
   "metadata": {},
   "outputs": [],
   "source": [
    "# with open(\"../PreprocessedData/transactions\", \"wb\") as fp:\n",
    "#     pickle.dump(transactions, fp)"
   ]
  },
  {
   "cell_type": "markdown",
   "metadata": {},
   "source": [
    "## 3) Stories"
   ]
  },
  {
   "cell_type": "code",
   "execution_count": 71,
   "metadata": {},
   "outputs": [],
   "source": [
    "stories = pd.read_csv(DATA_PATH+'stories_description.csv')"
   ]
  },
  {
   "cell_type": "code",
   "execution_count": 72,
   "metadata": {},
   "outputs": [],
   "source": [
    "model = FastText.load_fasttext_format('../PretrainedEmbeddings/cc.ru.300.bin')"
   ]
  },
  {
   "cell_type": "code",
   "execution_count": 97,
   "metadata": {},
   "outputs": [],
   "source": [
    "REG_TEXT = \"text\\\":\\\"(.*?)\\\",\"\n",
    "REG_NAME = \"name\\\":\\\"(.*?)\\\",\"\n",
    "NUM_SWIPES = \"description\\\":\\\"[0-9]{1,2}\""
   ]
  },
  {
   "cell_type": "code",
   "execution_count": 98,
   "metadata": {},
   "outputs": [],
   "source": [
    "decoded_stories = dict()\n",
    "for i in stories.index:\n",
    "    cur_story = stories['story_json'][i]\n",
    "    story_info = dict()\n",
    "    name = re.findall(REG_NAME, cur_story)\n",
    "    name = \"\" if len(name) == 0 else clean_sentence(name[0]).split()\n",
    "    name_n = []\n",
    "    for w in name:\n",
    "        if len(w) > 1:\n",
    "            name_n.append(w)\n",
    "    story_info['name'] = name_n\n",
    "    story_info['text'], story_info['n_words'] = clean_text(re.findall(REG_TEXT, cur_story))\n",
    "    story_info['swipes'] = len(re.findall(NUM_SWIPES, cur_story))\n",
    "    decoded_stories[stories['story_id'][i]] = story_info"
   ]
  },
  {
   "cell_type": "code",
   "execution_count": 99,
   "metadata": {},
   "outputs": [],
   "source": [
    "embedded_stories = dict()\n",
    "for key in decoded_stories.keys():\n",
    "    cur_story = decoded_stories[key]\n",
    "    cur_emb = np.zeros(300)\n",
    "    for i in range(len(cur_story['text'])):\n",
    "        try:\n",
    "            cur_emb += np.average(model.wv[cur_story['text'][i]], axis=0)\n",
    "        except KeyError:\n",
    "            continue\n",
    "    try:\n",
    "        cur_emb += np.average(model.wv[cur_story['name']], axis=0)\n",
    "    except:\n",
    "        pass\n",
    "    cur_emb = (cur_emb - np.mean(cur_emb)) / (np.std(cur_emb) + 1e-8)\n",
    "    embedded_stories[key] = {'emb': cur_emb,\n",
    "                             'n_words': cur_story['n_words'],\n",
    "                             'swipes' : cur_story['swipes']\n",
    "                            }"
   ]
  },
  {
   "cell_type": "code",
   "execution_count": 100,
   "metadata": {},
   "outputs": [],
   "source": [
    "# with open(\"../PreprocessedData/embedded_stories_сс\", \"wb\") as fp:\n",
    "#     pickle.dump(embedded_stories, fp)"
   ]
  },
  {
   "cell_type": "markdown",
   "metadata": {},
   "source": [
    "### Make categories"
   ]
  },
  {
   "cell_type": "code",
   "execution_count": 31,
   "metadata": {},
   "outputs": [
    {
     "name": "stderr",
     "output_type": "stream",
     "text": [
      "100%|██████████| 959/959 [00:00<00:00, 1258947.59it/s]\n"
     ]
    }
   ],
   "source": [
    "embedings_df = embedings2df('../PreprocessedData/embedded_stories_сс')\n",
    "\n",
    "n_clusters = 10\n",
    "\n",
    "k_means = KMeans(n_clusters=n_clusters)\n",
    "clusters = k_means.fit_predict(embedings_df) "
   ]
  },
  {
   "cell_type": "code",
   "execution_count": 173,
   "metadata": {},
   "outputs": [
    {
     "data": {
      "image/png": "[encoded data removed]",
      "text/plain": [
       "<Figure size 432x288 with 1 Axes>"
      ]
     },
     "metadata": {
      "needs_background": "light"
     },
     "output_type": "display_data"
    }
   ],
   "source": [
    "Sum_of_squared_distances = []\n",
    "K = range(1, 30)\n",
    "for k in K:\n",
    "    km = KMeans(n_clusters=k)\n",
    "    km = km.fit(embedings_df)\n",
    "    Sum_of_squared_distances.append(km.inertia_)\n",
    "    \n",
    "plt.plot(K, Sum_of_squared_distances, 'bx-')\n",
    "plt.xlabel('k')\n",
    "plt.ylabel('Sum_of_squared_distances')\n",
    "plt.title('Elbow Method For Optimal k')\n",
    "plt.show()"
   ]
  },
  {
   "cell_type": "markdown",
   "metadata": {},
   "source": [
    "## 4) Whatching the same stories twice"
   ]
  },
  {
   "cell_type": "markdown",
   "metadata": {},
   "source": [
    "Смотрел ужк или нет <br>\n",
    "Сколько раз смотрел на текущий момент"
   ]
  },
  {
   "cell_type": "code",
   "execution_count": null,
   "metadata": {},
   "outputs": [],
   "source": [
    "train_y = pd.read_csv(DATA_PATH+'stories_reaction_train.csv')\n",
    "test_y = pd.read_csv(DATA_PATH+'stories_reaction_test.csv')"
   ]
  },
  {
   "cell_type": "code",
   "execution_count": null,
   "metadata": {},
   "outputs": [],
   "source": [
    "train_y.head()"
   ]
  },
  {
   "cell_type": "code",
   "execution_count": null,
   "metadata": {},
   "outputs": [],
   "source": [
    "y = pd.concat([train_y.drop(columns='event'), test_y.drop(columns='answer_id')])"
   ]
  },
  {
   "cell_type": "code",
   "execution_count": null,
   "metadata": {
    "scrolled": true
   },
   "outputs": [],
   "source": [
    "y.index = y.customer_id\n",
    "y = y.drop(columns='customer_id')"
   ]
  },
  {
   "cell_type": "code",
   "execution_count": null,
   "metadata": {
    "scrolled": true
   },
   "outputs": [],
   "source": [
    "idxs = np.unique(y.index)\n",
    "customer_views = dict()\n",
    "for id_c in tqdm.tqdm(idxs):\n",
    "    cur_y = y.loc[id_c]\n",
    "    cur_customer_views = dict()\n",
    "    for story in np.unique(cur_y['story_id']):\n",
    "        cur_story = dict()\n",
    "        dates = cur_y[cur_y['story_id'] == story]\n",
    "        # print(type(dates), story)\n",
    "        if type(dates) != type('aaa'):\n",
    "            dates = np.array(dates['event_dttm'])\n",
    "        else:\n",
    "            dates = [dates]\n",
    "        dates = sorted([datetime.strptime(time, '%Y-%m-%d %H:%M:%S') for time in dates])\n",
    "        for j in range(len(dates)):\n",
    "            cur_story[dates[j]] = j\n",
    "        cur_customer_views[story] = cur_story\n",
    "    customer_views[id_c] = cur_customer_views"
   ]
  },
  {
   "cell_type": "code",
   "execution_count": 136,
   "metadata": {},
   "outputs": [],
   "source": [
    "# with open(\"../PreprocessedData/customer_views\", \"wb\") as fp:\n",
    "#     pickle.dump(customer_views, fp)"
   ]
  },
  {
   "cell_type": "markdown",
   "metadata": {},
   "source": [
    "#### Extracting Day of week of view and etc "
   ]
  },
  {
   "cell_type": "markdown",
   "metadata": {},
   "source": [
    "Рабочее время или нет (9-18) + выходной или нет <br>\n",
    "День недели (как категориальная фича) - Monday == 0 ... Sunday == 6 <br>\n",
    "Выходной или нет (Бинарная фича) - выходной: метки 5 и 6 <br>"
   ]
  },
  {
   "cell_type": "markdown",
   "metadata": {},
   "source": [
    "## 5) Aggregating all previous into one dataset"
   ]
  },
  {
   "cell_type": "markdown",
   "metadata": {},
   "source": [
    "#### Loading previous preprocess"
   ]
  },
  {
   "cell_type": "code",
   "execution_count": 67,
   "metadata": {},
   "outputs": [],
   "source": [
    "with open(\"../PreprocessedData/transactions\", \"rb\") as fp:\n",
    "    transactions = pickle.load(fp)"
   ]
  },
  {
   "cell_type": "code",
   "execution_count": 68,
   "metadata": {},
   "outputs": [],
   "source": [
    "with open(\"../PreprocessedData/embedded_stories_сс\", \"rb\") as fp:\n",
    "    embedded_stories = pickle.load(fp)\n",
    "for i, idx in enumerate(embedings_df.index):\n",
    "    cluster = [0] * (n_clusters+1)\n",
    "    cluster[clusters[i]] = 1\n",
    "    embedded_stories[idx]['category'] = cluster"
   ]
  },
  {
   "cell_type": "code",
   "execution_count": 69,
   "metadata": {},
   "outputs": [],
   "source": [
    "with open(\"../PreprocessedData/customer_views\", \"rb\") as fp:\n",
    "    customer_views = pickle.load(fp)"
   ]
  },
  {
   "cell_type": "code",
   "execution_count": 70,
   "metadata": {},
   "outputs": [],
   "source": [
    "train_y = pd.read_csv(DATA_PATH+'stories_reaction_train.csv')\n",
    "test_y = pd.read_csv(DATA_PATH+'stories_reaction_test.csv')"
   ]
  },
  {
   "cell_type": "markdown",
   "metadata": {},
   "source": [
    "#### Not all cusomers from trani_y are in transactions, so swap their info to average"
   ]
  },
  {
   "cell_type": "code",
   "execution_count": 71,
   "metadata": {},
   "outputs": [],
   "source": [
    "av_transaction = list(np.mean(transactions, axis=0))"
   ]
  },
  {
   "cell_type": "code",
   "execution_count": 72,
   "metadata": {},
   "outputs": [
    {
     "data": {
      "text/plain": [
       "[1212.4871354047252, 1792.7243260481805, 84.15938911135724, 82035.79185481809]"
      ]
     },
     "execution_count": 72,
     "metadata": {},
     "output_type": "execute_result"
    }
   ],
   "source": [
    "av_transaction"
   ]
  },
  {
   "cell_type": "markdown",
   "metadata": {},
   "source": [
    "#### Not all stories from train_y are in stories, so swap their info to average. Maybe we should just drop them from dataset??"
   ]
  },
  {
   "cell_type": "code",
   "execution_count": 73,
   "metadata": {},
   "outputs": [],
   "source": [
    "embs = np.zeros(300)\n",
    "words = 0\n",
    "swipes = 0\n",
    "num_stories = len(embedded_stories.keys())\n",
    "for key in embedded_stories.keys():\n",
    "    embs += embedded_stories[key]['emb']\n",
    "    words += embedded_stories[key]['n_words']\n",
    "    swipes += embedded_stories[key]['swipes']"
   ]
  },
  {
   "cell_type": "code",
   "execution_count": 74,
   "metadata": {},
   "outputs": [],
   "source": [
    "av_story = {'emb': embs / num_stories,\n",
    "            'n_words': words // num_stories,\n",
    "            'swipes': swipes // num_stories,\n",
    "            'category': [0]*n_clusters + [1]\n",
    "           }"
   ]
  },
  {
   "cell_type": "code",
   "execution_count": 75,
   "metadata": {},
   "outputs": [],
   "source": [
    "column_names = []"
   ]
  },
  {
   "cell_type": "code",
   "execution_count": 76,
   "metadata": {},
   "outputs": [],
   "source": [
    "column_names += list(train_transformed.columns)\n",
    "column_names += list(transactions.columns)"
   ]
  },
  {
   "cell_type": "code",
   "execution_count": 77,
   "metadata": {},
   "outputs": [],
   "source": [
    "story_feat = ['emb_'+str(i+1) for i in range(300)]\n",
    "story_cat = ['cat_'+str(i+1) for i in range(n_clusters+1)]\n",
    "column_names += ['n_words', 'swipes']\n",
    "column_names += story_feat\n",
    "column_names += story_cat"
   ]
  },
  {
   "cell_type": "code",
   "execution_count": 78,
   "metadata": {},
   "outputs": [
    {
     "name": "stdout",
     "output_type": "stream",
     "text": [
      "593\n"
     ]
    }
   ],
   "source": [
    "column_names += ['num_prev', 'is_prev']\n",
    "print(len(column_names))"
   ]
  },
  {
   "cell_type": "code",
   "execution_count": 79,
   "metadata": {},
   "outputs": [
    {
     "name": "stdout",
     "output_type": "stream",
     "text": [
      "603\n"
     ]
    }
   ],
   "source": [
    "column_names += ['monday', 'tuesday', 'wednesday', 'thursday', 'friday', 'saturday', 'sunday'] +\\\n",
    "                ['is_weekend', 'is_working_time', 'is_daytime']\n",
    "print(len(column_names))"
   ]
  },
  {
   "cell_type": "code",
   "execution_count": 80,
   "metadata": {
    "scrolled": true
   },
   "outputs": [],
   "source": [
    "def final_preprocess(y, train_transformed, bonus, transactions, embedded_stories, customer_views, label_col='event'):\n",
    "    final_df = []\n",
    "    final_labels = []\n",
    "    for i in tqdm.tqdm(range(len(y))):\n",
    "        row = []\n",
    "        cur_view = y.iloc[i]\n",
    "\n",
    "        cus_id = cur_view['customer_id']\n",
    "        try:\n",
    "            row += list(train_transformed.loc[cus_id])\n",
    "        except KeyError:\n",
    "            try:\n",
    "                row += list(bonus.loc[cus_id])\n",
    "            except KeyError:\n",
    "                continue\n",
    "        try:\n",
    "            row += list(transactions.loc[cus_id])\n",
    "        except KeyError:\n",
    "            row += av_transaction\n",
    "\n",
    "        story_id = cur_view['story_id']\n",
    "        try:\n",
    "            story = embedded_stories[story_id]\n",
    "        except KeyError:\n",
    "            story = av_story\n",
    "        row += [story['n_words']]\n",
    "        row += [story['swipes']]\n",
    "        row += list(story['emb'])\n",
    "        row += story['category']\n",
    "\n",
    "        view_date = datetime.strptime(cur_view['event_dttm'], '%Y-%m-%d %H:%M:%S')\n",
    "        num_prev = customer_views[cus_id][story_id][view_date]\n",
    "        if num_prev:\n",
    "            row += [num_prev, 1]\n",
    "        else:\n",
    "            row += [num_prev, 0]\n",
    "        row += extract_date_info(view_date)\n",
    "        final_df.append(row)\n",
    "        final_labels.append(cur_view[label_col])\n",
    "        \n",
    "    return final_df, final_labels"
   ]
  },
  {
   "cell_type": "code",
   "execution_count": 81,
   "metadata": {},
   "outputs": [],
   "source": [
    "train = train_transformed.iloc[0: train.shape[0]]\n",
    "test = train_transformed.iloc[train.shape[0]: ]"
   ]
  },
  {
   "cell_type": "code",
   "execution_count": 82,
   "metadata": {
    "scrolled": true
   },
   "outputs": [
    {
     "name": "stderr",
     "output_type": "stream",
     "text": [
      "100%|██████████| 473141/473141 [05:33<00:00, 1420.15it/s]\n"
     ]
    }
   ],
   "source": [
    "train_fin, train_label_fin = final_preprocess(train_y, train, test, transactions, embedded_stories,\n",
    "                                              customer_views, label_col='event')"
   ]
  },
  {
   "cell_type": "code",
   "execution_count": 83,
   "metadata": {
    "scrolled": true
   },
   "outputs": [
    {
     "name": "stderr",
     "output_type": "stream",
     "text": [
      "100%|██████████| 172049/172049 [02:00<00:00, 1432.55it/s]\n"
     ]
    }
   ],
   "source": [
    "test_fin, test_label_fin = final_preprocess(test_y, test, train, transactions, embedded_stories,\n",
    "                                            customer_views, label_col='answer_id')"
   ]
  },
  {
   "cell_type": "code",
   "execution_count": 93,
   "metadata": {},
   "outputs": [
    {
     "data": {
      "text/plain": [
       "(172049, 603)"
      ]
     },
     "execution_count": 93,
     "metadata": {},
     "output_type": "execute_result"
    }
   ],
   "source": [
    "np.array(test_fin).shape"
   ]
  },
  {
   "cell_type": "code",
   "execution_count": 94,
   "metadata": {},
   "outputs": [
    {
     "data": {
      "text/plain": [
       "(172049, 4)"
      ]
     },
     "execution_count": 94,
     "metadata": {},
     "output_type": "execute_result"
    }
   ],
   "source": [
    "test_y.shape"
   ]
  },
  {
   "cell_type": "code",
   "execution_count": 95,
   "metadata": {},
   "outputs": [
    {
     "data": {
      "text/plain": [
       "(473141, 603)"
      ]
     },
     "execution_count": 95,
     "metadata": {},
     "output_type": "execute_result"
    }
   ],
   "source": [
    "np.array(train_fin).shape"
   ]
  },
  {
   "cell_type": "code",
   "execution_count": 96,
   "metadata": {},
   "outputs": [
    {
     "data": {
      "text/plain": [
       "(473141, 4)"
      ]
     },
     "execution_count": 96,
     "metadata": {},
     "output_type": "execute_result"
    }
   ],
   "source": [
    "train_y.shape"
   ]
  },
  {
   "cell_type": "code",
   "execution_count": 97,
   "metadata": {},
   "outputs": [
    {
     "ename": "NameError",
     "evalue": "name 'embedded_stories' is not defined",
     "output_type": "error",
     "traceback": [
      "\u001b[0;31m---------------------------------------------------------------------------\u001b[0m",
      "\u001b[0;31mNameError\u001b[0m                                 Traceback (most recent call last)",
      "\u001b[0;32m<ipython-input-97-8e48c8c2409e>\u001b[0m in \u001b[0;36m<module>\u001b[0;34m\u001b[0m\n\u001b[0;32m----> 1\u001b[0;31m \u001b[0;32mdel\u001b[0m\u001b[0;34m(\u001b[0m\u001b[0membedded_stories\u001b[0m\u001b[0;34m)\u001b[0m\u001b[0;34m\u001b[0m\u001b[0;34m\u001b[0m\u001b[0m\n\u001b[0m\u001b[1;32m      2\u001b[0m \u001b[0;32mdel\u001b[0m\u001b[0;34m(\u001b[0m\u001b[0mtransactions\u001b[0m\u001b[0;34m)\u001b[0m\u001b[0;34m\u001b[0m\u001b[0;34m\u001b[0m\u001b[0m\n\u001b[1;32m      3\u001b[0m \u001b[0;32mdel\u001b[0m\u001b[0;34m(\u001b[0m\u001b[0mcustomer_views\u001b[0m\u001b[0;34m)\u001b[0m\u001b[0;34m\u001b[0m\u001b[0;34m\u001b[0m\u001b[0m\n\u001b[1;32m      4\u001b[0m \u001b[0;32mdel\u001b[0m\u001b[0;34m(\u001b[0m\u001b[0mtrain_transformed\u001b[0m\u001b[0;34m)\u001b[0m\u001b[0;34m\u001b[0m\u001b[0;34m\u001b[0m\u001b[0m\n\u001b[1;32m      5\u001b[0m \u001b[0;32mdel\u001b[0m\u001b[0;34m(\u001b[0m\u001b[0mtrain\u001b[0m\u001b[0;34m)\u001b[0m\u001b[0;34m\u001b[0m\u001b[0;34m\u001b[0m\u001b[0m\n",
      "\u001b[0;31mNameError\u001b[0m: name 'embedded_stories' is not defined"
     ]
    }
   ],
   "source": [
    "del(embedded_stories)\n",
    "del(transactions)\n",
    "del(customer_views)\n",
    "del(train_transformed)\n",
    "del(train)\n",
    "del(test)\n",
    "gc.collect()"
   ]
  },
  {
   "cell_type": "code",
   "execution_count": null,
   "metadata": {},
   "outputs": [],
   "source": [
    "# np.save(\"../PreprocessedData/FinalDataset/train_data\", np.array(train_fin))\n",
    "# np.save(\"../PreprocessedData/FinalDataset/train_labels\", np.array(train_label_fin))\n",
    "# np.save(\"../PreprocessedData/FinalDataset/test_data\", np.array(test_fin))\n",
    "# np.save(\"../PreprocessedData/FinalDataset/test_labels\", np.array(test_label_fin))"
   ]
  },
  {
   "cell_type": "markdown",
   "metadata": {},
   "source": [
    "### Запихнем в датафрейм с названиями колонок, чтобы можно было чекать фича импортансы"
   ]
  },
  {
   "cell_type": "code",
   "execution_count": 89,
   "metadata": {},
   "outputs": [],
   "source": [
    "train_fin_df = pd.DataFrame(train_fin, columns=column_names)"
   ]
  },
  {
   "cell_type": "code",
   "execution_count": 90,
   "metadata": {},
   "outputs": [],
   "source": [
    "test_fin_df = pd.DataFrame(test_fin, columns=column_names)"
   ]
  },
  {
   "cell_type": "code",
   "execution_count": 91,
   "metadata": {},
   "outputs": [],
   "source": [
    "train_fin_df.to_csv('../PreprocessedData/FinalDatasetBonusFeatures_сс/train_data.csv', sep=',', index=False)\n",
    "test_fin_df.to_csv('../PreprocessedData/FinalDatasetBonusFeatures_сс/test_data.csv', sep=',',  index=False)"
   ]
  },
  {
   "cell_type": "code",
   "execution_count": 92,
   "metadata": {},
   "outputs": [],
   "source": [
    "np.save(\"../PreprocessedData/FinalDatasetBonusFeatures_сс/train_labels\", np.array(train_label_fin))\n",
    "np.save(\"../PreprocessedData/FinalDatasetBonusFeatures_сс/test_labels\", np.array(test_label_fin))"
   ]
  },
  {
   "cell_type": "code",
   "execution_count": null,
   "metadata": {},
   "outputs": [],
   "source": []
  }
 ],
 "metadata": {
  "kernelspec": {
   "display_name": "Python 3",
   "language": "python",
   "name": "python3"
  },
  "language_info": {
   "codemirror_mode": {
    "name": "ipython",
    "version": 3
   },
   "file_extension": ".py",
   "mimetype": "text/x-python",
   "name": "python",
   "nbconvert_exporter": "python",
   "pygments_lexer": "ipython3",
   "version": "3.7.3"
  }
 },
 "nbformat": 4,
 "nbformat_minor": 2
}
